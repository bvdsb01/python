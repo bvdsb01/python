{
  "nbformat": 4,
  "nbformat_minor": 0,
  "metadata": {
    "colab": {
      "provenance": [],
      "authorship_tag": "ABX9TyPoH2arinpSDa6VZ5eWFcbY",
      "include_colab_link": true
    },
    "kernelspec": {
      "name": "python3",
      "display_name": "Python 3"
    },
    "language_info": {
      "name": "python"
    }
  },
  "cells": [
    {
      "cell_type": "markdown",
      "metadata": {
        "id": "view-in-github",
        "colab_type": "text"
      },
      "source": [
        "<a href=\"https://colab.research.google.com/github/bvdsb01/python/blob/main/__new__.ipynb\" target=\"_parent\"><img src=\"https://colab.research.google.com/assets/colab-badge.svg\" alt=\"Open In Colab\"/></a>"
      ]
    },
    {
      "cell_type": "code",
      "execution_count": null,
      "metadata": {
        "id": "h6q3KX9u44la"
      },
      "outputs": [],
      "source": [
        "class demo(object):\n",
        "\n",
        "  # new is a static method of object class\n",
        "  def __new__(cls):\n",
        "    print(\"HELLO world\")\n",
        "\n",
        "    # to create an object\n",
        "    return super().__new__(cls) # object creation\n",
        "\n",
        "  # init is not a constructor\n",
        "  def __init__(self):\n",
        "    print(\"Init\") # object initialization"
      ]
    },
    {
      "cell_type": "code",
      "source": [
        "obj = demo()"
      ],
      "metadata": {
        "colab": {
          "base_uri": "https://localhost:8080/"
        },
        "id": "Was6r7n649fY",
        "outputId": "df6abf63-961c-470b-d5f2-970f58d676c9"
      },
      "execution_count": null,
      "outputs": [
        {
          "output_type": "stream",
          "name": "stdout",
          "text": [
            "HELLO world\n",
            "Init\n"
          ]
        }
      ]
    },
    {
      "cell_type": "code",
      "source": [
        "class Connection:\n",
        "  __instance = None\n",
        "\n",
        "  def __new__(cls):\n",
        "    if cls.__instance is None:\n",
        "      print(\"Connecting.....\")\n",
        "      cls.__instance = super().__new__(cls)\n",
        "      return cls.__instance\n",
        "    else:\n",
        "        print('WARNING: There\\'s already an instance of connection!')\n",
        "        return cls.__instance\n",
        "\n",
        "  def __init__(self):\n",
        "    print(\"Connected to Internet!\")\n",
        "\n",
        "connection1 = Connection()"
      ],
      "metadata": {
        "id": "2w47tFY35jLM",
        "colab": {
          "base_uri": "https://localhost:8080/"
        },
        "outputId": "2f5f3636-768b-444e-e88b-f943073f6f60"
      },
      "execution_count": 16,
      "outputs": [
        {
          "output_type": "stream",
          "name": "stdout",
          "text": [
            "Connecting.....\n",
            "Connected to Internet!\n"
          ]
        }
      ]
    },
    {
      "cell_type": "code",
      "source": [
        "connection2 = Connection()"
      ],
      "metadata": {
        "colab": {
          "base_uri": "https://localhost:8080/"
        },
        "id": "h-XDhTlH8mUB",
        "outputId": "81fcfdb9-7400-400c-8366-7b7797a89ae8"
      },
      "execution_count": 17,
      "outputs": [
        {
          "output_type": "stream",
          "name": "stdout",
          "text": [
            "WARNING: There's already an instance of connection!\n",
            "Connected to Internet!\n"
          ]
        }
      ]
    },
    {
      "cell_type": "code",
      "source": [
        "connection1 is connection2"
      ],
      "metadata": {
        "colab": {
          "base_uri": "https://localhost:8080/"
        },
        "id": "cM_a6Z-t8yFI",
        "outputId": "d5f3252f-e7f5-4066-fe18-775ba9c5da8c"
      },
      "execution_count": 18,
      "outputs": [
        {
          "output_type": "execute_result",
          "data": {
            "text/plain": [
              "True"
            ]
          },
          "metadata": {},
          "execution_count": 18
        }
      ]
    },
    {
      "cell_type": "markdown",
      "source": [
        "# new dunder method or (__new__) or always gets called before the initializer"
      ],
      "metadata": {
        "id": "3gLLoHhP-wSQ"
      }
    },
    {
      "cell_type": "code",
      "source": [
        "# new dunder method or __new__ or always gets called before the initializer\n",
        "# and always returns an object\n",
        "\n",
        "class Vehicle:\n",
        "\n",
        "  def __new__(cls, wheels: int):\n",
        "    if wheels == 2:\n",
        "      return Motorbike()\n",
        "    elif wheels == 4:\n",
        "      return Car()\n",
        "    else:\n",
        "      return super().__new__(cls)\n",
        "\n",
        "  def __init__(self, wheels: int):\n",
        "    print(f'Initializing a vehicle with {wheels} wheels')\n",
        "\n",
        "class Motorbike:\n",
        "\n",
        "  def __init__(self):\n",
        "    print('Initializing motorbike')\n",
        "\n",
        "class Car:\n",
        "\n",
        "  def __init__(self):\n",
        "    print('Initializing car')\n",
        "\n",
        "mb = Vehicle(2)\n",
        "bus = Vehicle(10)\n"
      ],
      "metadata": {
        "colab": {
          "base_uri": "https://localhost:8080/"
        },
        "id": "WRYR4SKL81tE",
        "outputId": "6e214e1c-0e39-4fe5-d347-c5a289702cd1"
      },
      "execution_count": 32,
      "outputs": [
        {
          "output_type": "stream",
          "name": "stdout",
          "text": [
            "Initializing motorbike\n",
            "Initializing a vehicle with 10 wheels\n"
          ]
        }
      ]
    }
  ]
}