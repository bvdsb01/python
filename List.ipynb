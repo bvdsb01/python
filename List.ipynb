{
  "nbformat": 4,
  "nbformat_minor": 0,
  "metadata": {
    "colab": {
      "provenance": [],
      "authorship_tag": "ABX9TyMjG0TykxrjgN0loBbeKidq",
      "include_colab_link": true
    },
    "kernelspec": {
      "name": "python3",
      "display_name": "Python 3"
    },
    "language_info": {
      "name": "python"
    }
  },
  "cells": [
    {
      "cell_type": "markdown",
      "metadata": {
        "id": "view-in-github",
        "colab_type": "text"
      },
      "source": [
        "<a href=\"https://colab.research.google.com/github/bvdsb01/python/blob/main/List.ipynb\" target=\"_parent\"><img src=\"https://colab.research.google.com/assets/colab-badge.svg\" alt=\"Open In Colab\"/></a>"
      ]
    },
    {
      "cell_type": "markdown",
      "source": [
        "#**Lists** - are mutable"
      ],
      "metadata": {
        "id": "qyQQG47Ks7ws"
      }
    },
    {
      "cell_type": "code",
      "execution_count": 1,
      "metadata": {
        "colab": {
          "base_uri": "https://localhost:8080/"
        },
        "id": "Oe16_97Qs65b",
        "outputId": "540e8f10-2ff5-415d-b799-79428ad21161"
      },
      "outputs": [
        {
          "output_type": "execute_result",
          "data": {
            "text/plain": [
              "[]"
            ]
          },
          "metadata": {},
          "execution_count": 1
        }
      ],
      "source": [
        "l = list()\n",
        "l"
      ]
    },
    {
      "cell_type": "code",
      "source": [
        "l = ['Hello', 1, 2, 3] #heterogeneous list\n",
        "l"
      ],
      "metadata": {
        "colab": {
          "base_uri": "https://localhost:8080/"
        },
        "id": "wI42H3nVs-HA",
        "outputId": "d14266aa-7122-4d00-eb57-e9870f447bee"
      },
      "execution_count": 2,
      "outputs": [
        {
          "output_type": "execute_result",
          "data": {
            "text/plain": [
              "['Hello', 1, 2, 3]"
            ]
          },
          "metadata": {},
          "execution_count": 2
        }
      ]
    },
    {
      "cell_type": "code",
      "source": [
        "l1 = [1,2,3,4,5] #homogeneous list\n",
        "l1"
      ],
      "metadata": {
        "colab": {
          "base_uri": "https://localhost:8080/"
        },
        "id": "SFleq0sYtHw1",
        "outputId": "942a2907-1dd4-45a7-d738-af38bd215a67"
      },
      "execution_count": 3,
      "outputs": [
        {
          "output_type": "execute_result",
          "data": {
            "text/plain": [
              "[1, 2, 3, 4, 5]"
            ]
          },
          "metadata": {},
          "execution_count": 3
        }
      ]
    },
    {
      "cell_type": "code",
      "source": [
        "l.append([7,8])\n",
        "print(l)\n",
        "l.extend([1,2,3,4])\n",
        "print(l)\n",
        "l.insert(2, \"world\")\n",
        "print(l)"
      ],
      "metadata": {
        "colab": {
          "base_uri": "https://localhost:8080/"
        },
        "id": "I4sDrKQatMyW",
        "outputId": "5401806a-40f4-46e0-854a-58417b65bc5d"
      },
      "execution_count": 5,
      "outputs": [
        {
          "output_type": "stream",
          "name": "stdout",
          "text": [
            "['Hello', 1, 2, 3, [7, 8], 1, 2, 3, 4, [7, 8]]\n",
            "['Hello', 1, 2, 3, [7, 8], 1, 2, 3, 4, [7, 8], 1, 2, 3, 4]\n",
            "['Hello', 1, 'world', 2, 3, [7, 8], 1, 2, 3, 4, [7, 8], 1, 2, 3, 4]\n"
          ]
        }
      ]
    },
    {
      "cell_type": "code",
      "source": [],
      "metadata": {
        "id": "2DyuJNVDtXHc"
      },
      "execution_count": null,
      "outputs": []
    }
  ]
}