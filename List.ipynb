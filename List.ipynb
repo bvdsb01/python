{
  "nbformat": 4,
  "nbformat_minor": 0,
  "metadata": {
    "colab": {
      "provenance": [],
      "authorship_tag": "ABX9TyMUHGZ0DGSGZM4b2FxTDSBy",
      "include_colab_link": true
    },
    "kernelspec": {
      "name": "python3",
      "display_name": "Python 3"
    },
    "language_info": {
      "name": "python"
    }
  },
  "cells": [
    {
      "cell_type": "markdown",
      "metadata": {
        "id": "view-in-github",
        "colab_type": "text"
      },
      "source": [
        "<a href=\"https://colab.research.google.com/github/bvdsb01/python/blob/main/List.ipynb\" target=\"_parent\"><img src=\"https://colab.research.google.com/assets/colab-badge.svg\" alt=\"Open In Colab\"/></a>"
      ]
    },
    {
      "cell_type": "markdown",
      "source": [
        "#**Lists** - are mutable\n",
        "\n",
        "Common Functions -\n",
        "*  len()\n",
        "*  min()\n",
        "*  max()\n",
        "*  sorted()/sorted(l, reverse = True)\n"
      ],
      "metadata": {
        "id": "qyQQG47Ks7ws"
      }
    },
    {
      "cell_type": "code",
      "execution_count": 1,
      "metadata": {
        "colab": {
          "base_uri": "https://localhost:8080/"
        },
        "id": "Oe16_97Qs65b",
        "outputId": "540e8f10-2ff5-415d-b799-79428ad21161"
      },
      "outputs": [
        {
          "output_type": "execute_result",
          "data": {
            "text/plain": [
              "[]"
            ]
          },
          "metadata": {},
          "execution_count": 1
        }
      ],
      "source": [
        "l = list()\n",
        "l"
      ]
    },
    {
      "cell_type": "code",
      "source": [
        "l = ['Hello', 1, 2, 3] #heterogeneous list\n",
        "l"
      ],
      "metadata": {
        "colab": {
          "base_uri": "https://localhost:8080/"
        },
        "id": "wI42H3nVs-HA",
        "outputId": "d14266aa-7122-4d00-eb57-e9870f447bee"
      },
      "execution_count": 2,
      "outputs": [
        {
          "output_type": "execute_result",
          "data": {
            "text/plain": [
              "['Hello', 1, 2, 3]"
            ]
          },
          "metadata": {},
          "execution_count": 2
        }
      ]
    },
    {
      "cell_type": "code",
      "source": [
        "l1 = [1,2,3,4,5] #homogeneous list\n",
        "l1"
      ],
      "metadata": {
        "colab": {
          "base_uri": "https://localhost:8080/"
        },
        "id": "SFleq0sYtHw1",
        "outputId": "942a2907-1dd4-45a7-d738-af38bd215a67"
      },
      "execution_count": 3,
      "outputs": [
        {
          "output_type": "execute_result",
          "data": {
            "text/plain": [
              "[1, 2, 3, 4, 5]"
            ]
          },
          "metadata": {},
          "execution_count": 3
        }
      ]
    },
    {
      "cell_type": "code",
      "source": [
        "l.append([7,8]) # adds at the end and tries to add as one element\n",
        "print(l)\n",
        "l.extend([1,2,3,4])  # ends at the end but tries to add multiple elements\n",
        "print(l)\n",
        "l.insert(2, \"world\") # inserts at the desired position\n",
        "print(l)"
      ],
      "metadata": {
        "colab": {
          "base_uri": "https://localhost:8080/"
        },
        "id": "I4sDrKQatMyW",
        "outputId": "5401806a-40f4-46e0-854a-58417b65bc5d"
      },
      "execution_count": 5,
      "outputs": [
        {
          "output_type": "stream",
          "name": "stdout",
          "text": [
            "['Hello', 1, 2, 3, [7, 8], 1, 2, 3, 4, [7, 8]]\n",
            "['Hello', 1, 2, 3, [7, 8], 1, 2, 3, 4, [7, 8], 1, 2, 3, 4]\n",
            "['Hello', 1, 'world', 2, 3, [7, 8], 1, 2, 3, 4, [7, 8], 1, 2, 3, 4]\n"
          ]
        }
      ]
    },
    {
      "cell_type": "code",
      "source": [
        "l.extend(\"goa\")\n",
        "print(l)"
      ],
      "metadata": {
        "colab": {
          "base_uri": "https://localhost:8080/"
        },
        "id": "2DyuJNVDtXHc",
        "outputId": "499c1b72-ddaf-472b-87a2-b55fdb7c8f1a"
      },
      "execution_count": 6,
      "outputs": [
        {
          "output_type": "stream",
          "name": "stdout",
          "text": [
            "['Hello', 1, 'world', 2, 3, [7, 8], 1, 2, 3, 4, [7, 8], 1, 2, 3, 4, 'g', 'o', 'a']\n"
          ]
        }
      ]
    },
    {
      "cell_type": "code",
      "source": [
        "# sorted() works on homogeneous lists and does not alter the original list\n",
        "\n",
        "l2 = [10,4,5,6,2,3]\n",
        "print(sorted(l2))\n",
        "\n",
        "l1 = ['hello', 'world', 'how', 'are']\n",
        "print(sorted(l1))\n",
        "\n",
        "print(l1)\n",
        "print(l2)"
      ],
      "metadata": {
        "colab": {
          "base_uri": "https://localhost:8080/"
        },
        "id": "6SMwLroDt6v1",
        "outputId": "231ba4f4-e3cc-4cd9-e4b2-a40033f252fa"
      },
      "execution_count": 20,
      "outputs": [
        {
          "output_type": "stream",
          "name": "stdout",
          "text": [
            "[2, 3, 4, 5, 6, 10]\n",
            "['are', 'hello', 'how', 'world']\n",
            "['hello', 'world', 'how', 'are']\n",
            "[10, 4, 5, 6, 2, 3]\n"
          ]
        }
      ]
    },
    {
      "cell_type": "code",
      "source": [
        "l1.sort() #permanent change\n",
        "print(l1)"
      ],
      "metadata": {
        "colab": {
          "base_uri": "https://localhost:8080/"
        },
        "id": "RDpu8h8TuTvY",
        "outputId": "6b888a9f-79b2-405c-e88c-0bffe98645af"
      },
      "execution_count": 18,
      "outputs": [
        {
          "output_type": "stream",
          "name": "stdout",
          "text": [
            "['are', 'hello', 'how', 'world']\n"
          ]
        }
      ]
    }
  ]
}