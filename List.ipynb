{
  "nbformat": 4,
  "nbformat_minor": 0,
  "metadata": {
    "colab": {
      "provenance": [],
      "authorship_tag": "ABX9TyPdYHEdgkDWuOYpwhaCeYB8",
      "include_colab_link": true
    },
    "kernelspec": {
      "name": "python3",
      "display_name": "Python 3"
    },
    "language_info": {
      "name": "python"
    }
  },
  "cells": [
    {
      "cell_type": "markdown",
      "metadata": {
        "id": "view-in-github",
        "colab_type": "text"
      },
      "source": [
        "<a href=\"https://colab.research.google.com/github/bvdsb01/python/blob/main/List.ipynb\" target=\"_parent\"><img src=\"https://colab.research.google.com/assets/colab-badge.svg\" alt=\"Open In Colab\"/></a>"
      ]
    },
    {
      "cell_type": "markdown",
      "source": [
        "#**Lists** are mutable"
      ],
      "metadata": {
        "id": "Cg82Hsid2twT"
      }
    },
    {
      "cell_type": "markdown",
      "source": [
        "**Array** -\n",
        "*  Is homogeneous in nature\n",
        "*  Data is stored in continuous memory\n",
        "*  Arrays are much faster because of continuous memory\n",
        "\n",
        "**List** -\n",
        "*  Can be heterogeneous\n",
        "*  Data is not stored in continuous memory\n",
        "*  Lists are more programmer friendly\n",
        "\n",
        "\n",
        "\n",
        "Common Functions -\n",
        "*  len()\n",
        "*  min()\n",
        "*  max()\n",
        "*  sorted()/sorted(l, reverse = True)\n"
      ],
      "metadata": {
        "id": "qyQQG47Ks7ws"
      }
    },
    {
      "cell_type": "code",
      "execution_count": 22,
      "metadata": {
        "colab": {
          "base_uri": "https://localhost:8080/"
        },
        "id": "Oe16_97Qs65b",
        "outputId": "de1161e6-cb03-4b32-9286-63511154f299"
      },
      "outputs": [
        {
          "output_type": "stream",
          "name": "stdout",
          "text": [
            "<class 'list'>\n"
          ]
        },
        {
          "output_type": "execute_result",
          "data": {
            "text/plain": [
              "[]"
            ]
          },
          "metadata": {},
          "execution_count": 22
        }
      ],
      "source": [
        "l = list()\n",
        "print(type(l))\n",
        "l"
      ]
    },
    {
      "cell_type": "code",
      "source": [
        "l = ['Hello', 1, 2, 3] #heterogeneous list\n",
        "l"
      ],
      "metadata": {
        "colab": {
          "base_uri": "https://localhost:8080/"
        },
        "id": "wI42H3nVs-HA",
        "outputId": "d14266aa-7122-4d00-eb57-e9870f447bee"
      },
      "execution_count": null,
      "outputs": [
        {
          "output_type": "execute_result",
          "data": {
            "text/plain": [
              "['Hello', 1, 2, 3]"
            ]
          },
          "metadata": {},
          "execution_count": 2
        }
      ]
    },
    {
      "cell_type": "code",
      "source": [
        "l1 = [1,2,3,4,5] #homogeneous list\n",
        "l1"
      ],
      "metadata": {
        "colab": {
          "base_uri": "https://localhost:8080/"
        },
        "id": "SFleq0sYtHw1",
        "outputId": "942a2907-1dd4-45a7-d738-af38bd215a67"
      },
      "execution_count": null,
      "outputs": [
        {
          "output_type": "execute_result",
          "data": {
            "text/plain": [
              "[1, 2, 3, 4, 5]"
            ]
          },
          "metadata": {},
          "execution_count": 3
        }
      ]
    },
    {
      "cell_type": "code",
      "source": [
        "l.append([7,8]) # adds at the end and tries to add as one element\n",
        "print(l)\n",
        "l.extend([1,2,3,4])  # ends at the end but tries to add multiple elements\n",
        "print(l)\n",
        "l.insert(2, \"world\") # inserts at the desired position\n",
        "print(l)"
      ],
      "metadata": {
        "colab": {
          "base_uri": "https://localhost:8080/"
        },
        "id": "I4sDrKQatMyW",
        "outputId": "5401806a-40f4-46e0-854a-58417b65bc5d"
      },
      "execution_count": null,
      "outputs": [
        {
          "output_type": "stream",
          "name": "stdout",
          "text": [
            "['Hello', 1, 2, 3, [7, 8], 1, 2, 3, 4, [7, 8]]\n",
            "['Hello', 1, 2, 3, [7, 8], 1, 2, 3, 4, [7, 8], 1, 2, 3, 4]\n",
            "['Hello', 1, 'world', 2, 3, [7, 8], 1, 2, 3, 4, [7, 8], 1, 2, 3, 4]\n"
          ]
        }
      ]
    },
    {
      "cell_type": "code",
      "source": [
        "l.extend(\"goa\")\n",
        "print(l)"
      ],
      "metadata": {
        "colab": {
          "base_uri": "https://localhost:8080/"
        },
        "id": "2DyuJNVDtXHc",
        "outputId": "499c1b72-ddaf-472b-87a2-b55fdb7c8f1a"
      },
      "execution_count": null,
      "outputs": [
        {
          "output_type": "stream",
          "name": "stdout",
          "text": [
            "['Hello', 1, 'world', 2, 3, [7, 8], 1, 2, 3, 4, [7, 8], 1, 2, 3, 4, 'g', 'o', 'a']\n"
          ]
        }
      ]
    },
    {
      "cell_type": "code",
      "source": [
        "# sorted() works on homogeneous lists and does not alter the original list\n",
        "\n",
        "l2 = [10,4,5,6,2,3]\n",
        "print(sorted(l2))\n",
        "\n",
        "l1 = ['hello', 'world', 'how', 'are']\n",
        "print(sorted(l1))\n",
        "\n",
        "print(l1)\n",
        "print(l2)"
      ],
      "metadata": {
        "colab": {
          "base_uri": "https://localhost:8080/"
        },
        "id": "6SMwLroDt6v1",
        "outputId": "231ba4f4-e3cc-4cd9-e4b2-a40033f252fa"
      },
      "execution_count": null,
      "outputs": [
        {
          "output_type": "stream",
          "name": "stdout",
          "text": [
            "[2, 3, 4, 5, 6, 10]\n",
            "['are', 'hello', 'how', 'world']\n",
            "['hello', 'world', 'how', 'are']\n",
            "[10, 4, 5, 6, 2, 3]\n"
          ]
        }
      ]
    },
    {
      "cell_type": "code",
      "source": [
        "l1.sort() #permanent change\n",
        "print(l1)"
      ],
      "metadata": {
        "colab": {
          "base_uri": "https://localhost:8080/"
        },
        "id": "RDpu8h8TuTvY",
        "outputId": "6b888a9f-79b2-405c-e88c-0bffe98645af"
      },
      "execution_count": null,
      "outputs": [
        {
          "output_type": "stream",
          "name": "stdout",
          "text": [
            "['are', 'hello', 'how', 'world']\n"
          ]
        }
      ]
    },
    {
      "cell_type": "markdown",
      "source": [
        "#delete -\n",
        "\n",
        "* del\n",
        "* remove\n",
        "* pop\n",
        "* clear"
      ],
      "metadata": {
        "id": "RKk-gE5w4kt9"
      }
    },
    {
      "cell_type": "code",
      "source": [
        "del l"
      ],
      "metadata": {
        "id": "7xBegrjw4h1Q"
      },
      "execution_count": null,
      "outputs": []
    },
    {
      "cell_type": "code",
      "source": [
        "del l1[1]\n",
        "l1"
      ],
      "metadata": {
        "colab": {
          "base_uri": "https://localhost:8080/"
        },
        "id": "qizSa6_Y4qYq",
        "outputId": "ea645090-fe84-464e-b4b7-0c8959fdfecf"
      },
      "execution_count": 25,
      "outputs": [
        {
          "output_type": "execute_result",
          "data": {
            "text/plain": [
              "['hello', 'how', 'are']"
            ]
          },
          "metadata": {},
          "execution_count": 25
        }
      ]
    },
    {
      "cell_type": "code",
      "source": [
        "l1.remove(\"how\") # don't know the index, but know which element to delete"
      ],
      "metadata": {
        "id": "LEteT42z4x8Y"
      },
      "execution_count": 26,
      "outputs": []
    },
    {
      "cell_type": "code",
      "source": [
        "print(l1)"
      ],
      "metadata": {
        "colab": {
          "base_uri": "https://localhost:8080/"
        },
        "id": "bXdAtvQm41qA",
        "outputId": "2568b5b9-04ca-41c8-8df1-633ee296e8df"
      },
      "execution_count": 27,
      "outputs": [
        {
          "output_type": "stream",
          "name": "stdout",
          "text": [
            "['hello', 'are']\n"
          ]
        }
      ]
    },
    {
      "cell_type": "code",
      "source": [
        "l1.pop() # deletes last item\n",
        "l1"
      ],
      "metadata": {
        "colab": {
          "base_uri": "https://localhost:8080/"
        },
        "id": "tzA95cM_42yd",
        "outputId": "6bfa7417-005a-4f9a-f295-e707e4700a82"
      },
      "execution_count": 28,
      "outputs": [
        {
          "output_type": "execute_result",
          "data": {
            "text/plain": [
              "['hello']"
            ]
          },
          "metadata": {},
          "execution_count": 28
        }
      ]
    },
    {
      "cell_type": "code",
      "source": [
        "l1.clear() #deletes all the elements leaves an empty list\n",
        "l1"
      ],
      "metadata": {
        "colab": {
          "base_uri": "https://localhost:8080/"
        },
        "id": "e-9Pf1iI4-xj",
        "outputId": "da1a1c8e-250a-46db-e84f-a22c28291fe2"
      },
      "execution_count": 29,
      "outputs": [
        {
          "output_type": "execute_result",
          "data": {
            "text/plain": [
              "[]"
            ]
          },
          "metadata": {},
          "execution_count": 29
        }
      ]
    },
    {
      "cell_type": "code",
      "source": [
        "l1 = [1,2,3,4]\n",
        "l2 = [5,6,7,8]\n",
        "print(l1 + l2) # concatenation in list is possible\n",
        "print(l1*3) # multiplication in list is possible"
      ],
      "metadata": {
        "colab": {
          "base_uri": "https://localhost:8080/"
        },
        "id": "doTYVCqD5Kqk",
        "outputId": "6020fca5-4afd-45e1-bf4c-fceecda763c3"
      },
      "execution_count": 31,
      "outputs": [
        {
          "output_type": "stream",
          "name": "stdout",
          "text": [
            "[1, 2, 3, 4, 5, 6, 7, 8]\n",
            "[1, 2, 3, 4, 1, 2, 3, 4, 1, 2, 3, 4]\n"
          ]
        }
      ]
    },
    {
      "cell_type": "code",
      "source": [
        "l = [1,2,3,4,[5,56,7]]\n",
        "5 in l # because 5 is not directly inside list"
      ],
      "metadata": {
        "colab": {
          "base_uri": "https://localhost:8080/"
        },
        "id": "IoUNR6Sz5XiM",
        "outputId": "b6855f49-4341-458e-aa8d-f3d143a1e10d"
      },
      "execution_count": 32,
      "outputs": [
        {
          "output_type": "execute_result",
          "data": {
            "text/plain": [
              "False"
            ]
          },
          "metadata": {},
          "execution_count": 32
        }
      ]
    },
    {
      "cell_type": "code",
      "source": [
        "[5,56,7] in l"
      ],
      "metadata": {
        "colab": {
          "base_uri": "https://localhost:8080/"
        },
        "id": "oiAlPcVX5i1n",
        "outputId": "b5498be1-cf2e-4929-dcba-96cd85e06971"
      },
      "execution_count": 33,
      "outputs": [
        {
          "output_type": "execute_result",
          "data": {
            "text/plain": [
              "True"
            ]
          },
          "metadata": {},
          "execution_count": 33
        }
      ]
    },
    {
      "cell_type": "markdown",
      "source": [
        "#List does not have find() it has index()"
      ],
      "metadata": {
        "id": "BLCgSOjw6Ezx"
      }
    },
    {
      "cell_type": "code",
      "source": [
        "l.index(2)"
      ],
      "metadata": {
        "colab": {
          "base_uri": "https://localhost:8080/"
        },
        "id": "693g-vhW5tFe",
        "outputId": "0f643956-4cf9-4123-85ab-ce043a4a9421"
      },
      "execution_count": 39,
      "outputs": [
        {
          "output_type": "execute_result",
          "data": {
            "text/plain": [
              "1"
            ]
          },
          "metadata": {},
          "execution_count": 39
        }
      ]
    },
    {
      "cell_type": "code",
      "source": [
        "l.index([5,56,7]) #if element not found it throws error"
      ],
      "metadata": {
        "colab": {
          "base_uri": "https://localhost:8080/"
        },
        "id": "3TN_6dMg5pzo",
        "outputId": "e565dae1-e5c0-49ab-d3e2-f75d1254cd13"
      },
      "execution_count": 43,
      "outputs": [
        {
          "output_type": "execute_result",
          "data": {
            "text/plain": [
              "4"
            ]
          },
          "metadata": {},
          "execution_count": 43
        }
      ]
    },
    {
      "cell_type": "code",
      "source": [
        "l.index(56)"
      ],
      "metadata": {
        "colab": {
          "base_uri": "https://localhost:8080/",
          "height": 141
        },
        "id": "xuNG2qB-6eST",
        "outputId": "f51e87c6-7258-4938-fe08-a03e225c27be"
      },
      "execution_count": 44,
      "outputs": [
        {
          "output_type": "error",
          "ename": "ValueError",
          "evalue": "56 is not in list",
          "traceback": [
            "\u001b[0;31m---------------------------------------------------------------------------\u001b[0m",
            "\u001b[0;31mValueError\u001b[0m                                Traceback (most recent call last)",
            "\u001b[0;32m<ipython-input-44-7182c0b59622>\u001b[0m in \u001b[0;36m<cell line: 1>\u001b[0;34m()\u001b[0m\n\u001b[0;32m----> 1\u001b[0;31m \u001b[0ml\u001b[0m\u001b[0;34m.\u001b[0m\u001b[0mindex\u001b[0m\u001b[0;34m(\u001b[0m\u001b[0;36m56\u001b[0m\u001b[0;34m)\u001b[0m\u001b[0;34m\u001b[0m\u001b[0;34m\u001b[0m\u001b[0m\n\u001b[0m",
            "\u001b[0;31mValueError\u001b[0m: 56 is not in list"
          ]
        }
      ]
    },
    {
      "cell_type": "code",
      "source": [
        "l.find(2)"
      ],
      "metadata": {
        "colab": {
          "base_uri": "https://localhost:8080/",
          "height": 141
        },
        "id": "vb6DJqrn6QuF",
        "outputId": "9fb9f20e-0786-4958-bcbf-672d61cd41f4"
      },
      "execution_count": 42,
      "outputs": [
        {
          "output_type": "error",
          "ename": "AttributeError",
          "evalue": "'list' object has no attribute 'find'",
          "traceback": [
            "\u001b[0;31m---------------------------------------------------------------------------\u001b[0m",
            "\u001b[0;31mAttributeError\u001b[0m                            Traceback (most recent call last)",
            "\u001b[0;32m<ipython-input-42-66c193142bc9>\u001b[0m in \u001b[0;36m<cell line: 1>\u001b[0;34m()\u001b[0m\n\u001b[0;32m----> 1\u001b[0;31m \u001b[0ml\u001b[0m\u001b[0;34m.\u001b[0m\u001b[0mfind\u001b[0m\u001b[0;34m(\u001b[0m\u001b[0;36m2\u001b[0m\u001b[0;34m)\u001b[0m\u001b[0;34m\u001b[0m\u001b[0;34m\u001b[0m\u001b[0m\n\u001b[0m",
            "\u001b[0;31mAttributeError\u001b[0m: 'list' object has no attribute 'find'"
          ]
        }
      ]
    }
  ]
}