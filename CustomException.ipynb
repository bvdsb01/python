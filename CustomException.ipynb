{
  "nbformat": 4,
  "nbformat_minor": 0,
  "metadata": {
    "colab": {
      "provenance": [],
      "authorship_tag": "ABX9TyMmed06dHwq+WzfQUFdOM02",
      "include_colab_link": true
    },
    "kernelspec": {
      "name": "python3",
      "display_name": "Python 3"
    },
    "language_info": {
      "name": "python"
    }
  },
  "cells": [
    {
      "cell_type": "markdown",
      "metadata": {
        "id": "view-in-github",
        "colab_type": "text"
      },
      "source": [
        "<a href=\"https://colab.research.google.com/github/bvdsb01/python/blob/main/CustomException.ipynb\" target=\"_parent\"><img src=\"https://colab.research.google.com/assets/colab-badge.svg\" alt=\"Open In Colab\"/></a>"
      ]
    },
    {
      "cell_type": "markdown",
      "source": [
        "#**Exception Handling**"
      ],
      "metadata": {
        "id": "wxZiHrblFqZ6"
      }
    },
    {
      "cell_type": "code",
      "source": [
        "class Bank:\n",
        "  def __init__(self, balance):\n",
        "    self.balance = balance\n",
        "\n",
        "  def withdraw(self, amount):\n",
        "    if amount < 0:\n",
        "      raise Exception(\"Amount cannot be -ve\")\n",
        "    if self.balance < amount:\n",
        "      raise Exception(\"Insufficient Balance\")\n",
        "    self.balance = self.balance - amount\n",
        "\n",
        "obj = Bank(10000)\n",
        "try:\n",
        "  obj.withdraw(-20000)\n",
        "except Exception as e:\n",
        "  print(e)\n",
        "else:\n",
        "  print(obj.balance)"
      ],
      "metadata": {
        "colab": {
          "base_uri": "https://localhost:8080/"
        },
        "id": "sH0tA2rbGjgY",
        "outputId": "745c661f-5038-410c-baea-de33335f905b"
      },
      "execution_count": 6,
      "outputs": [
        {
          "output_type": "stream",
          "name": "stdout",
          "text": [
            "Amount cannot be -ve\n"
          ]
        }
      ]
    },
    {
      "cell_type": "markdown",
      "source": [
        "#**Creating a custom exception**"
      ],
      "metadata": {
        "id": "VHogB1Y6MbB9"
      }
    },
    {
      "cell_type": "code",
      "execution_count": 9,
      "metadata": {
        "colab": {
          "base_uri": "https://localhost:8080/"
        },
        "id": "NsbX19VGExEU",
        "outputId": "7099b7aa-3cb8-495b-9577-a3444ea31a14"
      },
      "outputs": [
        {
          "output_type": "stream",
          "name": "stdout",
          "text": [
            "Insufficient Balance\n"
          ]
        }
      ],
      "source": [
        "class MyException(Exception):\n",
        "  def __init__(self, message):\n",
        "    #print(message)\n",
        "    pass\n",
        "\n",
        "class Bank:\n",
        "  def __init__(self, balance):\n",
        "    self.balance = balance\n",
        "\n",
        "  def withdraw(self, amount):\n",
        "    if amount < 0:\n",
        "      raise MyException(\"Amount cannot be -ve\")\n",
        "    if self.balance < amount:\n",
        "      raise MyException(\"Insufficient Balance\")\n",
        "    self.balance -= amount\n",
        "\n",
        "obj = Bank(10000)\n",
        "try:\n",
        "  obj.withdraw(15000)\n",
        "except MyException as e:\n",
        "  #pass\n",
        "  print(e)\n",
        "else:\n",
        "  print(obj.balance)\n",
        "\n"
      ]
    },
    {
      "cell_type": "markdown",
      "source": [
        "**Taking google's case as to why custom exceptions are important**\n",
        "\n",
        "*  Application Specific\n",
        "*  Gives full control"
      ],
      "metadata": {
        "id": "CFkjMMwxMFc5"
      }
    },
    {
      "cell_type": "code",
      "source": [
        "class SecurityException(Exception):\n",
        "  def __init__(self, message):\n",
        "    print(message)\n",
        "\n",
        "  def logout(self):\n",
        "    print(\"Logged off all devices\")\n",
        "\n",
        "class Google:\n",
        "  def __init__(self, name, email, password, device):\n",
        "    self.name = name\n",
        "    self.email = email\n",
        "    self.password = password\n",
        "    self.device = device\n",
        "\n",
        "  def login(self, email, password, device):\n",
        "    if device != self.device:\n",
        "      raise SecurityException(\"Logged in from different device\")\n",
        "\n",
        "    if email == self.email and password == self.password:\n",
        "      print(\"welcome\")\n",
        "    else:\n",
        "      print(\"Login error\")\n",
        "\n",
        "obj = Google('niti','niti@gmail.com',\"1234\",'apple')\n",
        "try:\n",
        "  obj.login('niti@gmail.com','1234','android')\n",
        "except SecurityException as e:\n",
        "  e.logout\n",
        "else:\n",
        "  print(obj.name)\n",
        "finally:\n",
        "  print(\"database connection closed\")"
      ],
      "metadata": {
        "colab": {
          "base_uri": "https://localhost:8080/"
        },
        "id": "vxsMju2rGwQM",
        "outputId": "6135e9c2-0ab2-4f3f-b335-9be567787a70"
      },
      "execution_count": 16,
      "outputs": [
        {
          "output_type": "stream",
          "name": "stdout",
          "text": [
            "Logged in from different device\n",
            "database connection closed\n"
          ]
        }
      ]
    }
  ]
}