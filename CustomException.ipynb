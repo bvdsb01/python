{
  "nbformat": 4,
  "nbformat_minor": 0,
  "metadata": {
    "colab": {
      "provenance": [],
      "authorship_tag": "ABX9TyNBC+h8ODMac40Na2epBxM/",
      "include_colab_link": true
    },
    "kernelspec": {
      "name": "python3",
      "display_name": "Python 3"
    },
    "language_info": {
      "name": "python"
    }
  },
  "cells": [
    {
      "cell_type": "markdown",
      "metadata": {
        "id": "view-in-github",
        "colab_type": "text"
      },
      "source": [
        "<a href=\"https://colab.research.google.com/github/bvdsb01/python/blob/main/CustomException.ipynb\" target=\"_parent\"><img src=\"https://colab.research.google.com/assets/colab-badge.svg\" alt=\"Open In Colab\"/></a>"
      ]
    },
    {
      "cell_type": "markdown",
      "source": [
        "#**Creating a custom exception**"
      ],
      "metadata": {
        "id": "wxZiHrblFqZ6"
      }
    },
    {
      "cell_type": "code",
      "source": [
        "class Bank:\n",
        "  def __init__(self, balance):\n",
        "    self.balance = balance\n",
        "\n",
        "  def withdraw(self, amount):\n",
        "    if amount < 0:\n",
        "      raise Exception(\"Amount cannot be -ve\")\n",
        "    if self.balance < amount:\n",
        "      raise Exception(\"Insufficient Balance\")\n",
        "    self.balance = self.balance - amount\n",
        "\n",
        "obj = Bank(10000)\n",
        "try:\n",
        "  obj.withdraw(-20000)\n",
        "except Exception as e:\n",
        "  print(e)\n",
        "else:\n",
        "  print(obj.balance)"
      ],
      "metadata": {
        "colab": {
          "base_uri": "https://localhost:8080/"
        },
        "id": "sH0tA2rbGjgY",
        "outputId": "745c661f-5038-410c-baea-de33335f905b"
      },
      "execution_count": 6,
      "outputs": [
        {
          "output_type": "stream",
          "name": "stdout",
          "text": [
            "Amount cannot be -ve\n"
          ]
        }
      ]
    },
    {
      "cell_type": "code",
      "execution_count": 2,
      "metadata": {
        "colab": {
          "base_uri": "https://localhost:8080/"
        },
        "id": "NsbX19VGExEU",
        "outputId": "2255c019-7197-419a-dd18-5b6255a57e7b"
      },
      "outputs": [
        {
          "output_type": "stream",
          "name": "stdout",
          "text": [
            "Insufficient Balance\n"
          ]
        }
      ],
      "source": [
        "class MyException(Exception):\n",
        "  def __init__(self, message):\n",
        "    print(message)\n",
        "\n",
        "class Bank:\n",
        "  def __init__(self, balance):\n",
        "    self.balance = balance\n",
        "\n",
        "  def withdraw(self, amount):\n",
        "    if amount < 0:\n",
        "      raise MyException(\"Amount cannot be -ve\")\n",
        "    if self.balance < amount:\n",
        "      raise MyException(\"Insufficient Balance\")\n",
        "    self.balance -= amount\n",
        "\n",
        "obj = Bank(10000)\n",
        "try:\n",
        "  obj.withdraw(15000)\n",
        "except MyException as e:\n",
        "  pass\n",
        "else:\n",
        "  print(obj.balance)\n",
        "\n"
      ]
    }
  ]
}