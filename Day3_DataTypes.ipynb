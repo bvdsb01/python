{
  "nbformat": 4,
  "nbformat_minor": 0,
  "metadata": {
    "colab": {
      "provenance": [],
      "authorship_tag": "ABX9TyPjtrj0sTJsi2Tc5oY93p82",
      "include_colab_link": true
    },
    "kernelspec": {
      "name": "python3",
      "display_name": "Python 3"
    },
    "language_info": {
      "name": "python"
    }
  },
  "cells": [
    {
      "cell_type": "markdown",
      "metadata": {
        "id": "view-in-github",
        "colab_type": "text"
      },
      "source": [
        "<a href=\"https://colab.research.google.com/github/bvdsb01/python/blob/main/Day3_DataTypes.ipynb\" target=\"_parent\"><img src=\"https://colab.research.google.com/assets/colab-badge.svg\" alt=\"Open In Colab\"/></a>"
      ]
    },
    {
      "cell_type": "markdown",
      "source": [
        "#Python supports 3 categories of data types\n",
        "\n",
        "\n",
        "*   Basic Types - integer,float, complex, boolean, string\n",
        "*   Container Types - Lists, tuples, sets and dictionary\n",
        "*   User Defined Types - Classes (OOP)\n"
      ],
      "metadata": {
        "id": "61drBogqTE3K"
      }
    },
    {
      "cell_type": "markdown",
      "source": [
        "#Interview question - name 10 datatypes in Python"
      ],
      "metadata": {
        "id": "D-QsRn0TTtQO"
      }
    },
    {
      "cell_type": "code",
      "execution_count": 8,
      "metadata": {
        "colab": {
          "base_uri": "https://localhost:8080/"
        },
        "id": "TjHUWd1USuAz",
        "outputId": "450dd022-ccc6-45c0-8dd7-97df2e9fca10"
      },
      "outputs": [
        {
          "output_type": "stream",
          "name": "stdout",
          "text": [
            "2\n",
            "45677878665653787849739249827438236487638746732547325478326000000000000000000000000000000000078\n",
            "1e+308\n",
            "inf\n"
          ]
        }
      ],
      "source": [
        "#integer - any number, python can handle large numbers too\n",
        "#so python can handle large numbers till 10^308 and at 10^309 it prints infinity\n",
        "\n",
        "print(2)\n",
        "print(45677878665653787849739249827438236487638746732547325478326000000000000000000000000000000000078)\n",
        "print(1e308)\n",
        "print(1e309)"
      ]
    },
    {
      "cell_type": "code",
      "source": [
        "print(1e-308)\n",
        "print(1e-309)"
      ],
      "metadata": {
        "colab": {
          "base_uri": "https://localhost:8080/"
        },
        "id": "ghP1qYVOTEch",
        "outputId": "a7355418-c475-4286-b26c-4a3e9f8d9489"
      },
      "execution_count": 17,
      "outputs": [
        {
          "output_type": "stream",
          "name": "stdout",
          "text": [
            "1e-308\n",
            "1e-309\n"
          ]
        }
      ]
    },
    {
      "cell_type": "code",
      "source": [
        "print(1e-3010)"
      ],
      "metadata": {
        "colab": {
          "base_uri": "https://localhost:8080/"
        },
        "id": "NQfEOXu-TdYZ",
        "outputId": "d990ace0-4d7d-4c48-e293-e09e77c597e4"
      },
      "execution_count": 14,
      "outputs": [
        {
          "output_type": "stream",
          "name": "stdout",
          "text": [
            "0.0\n"
          ]
        }
      ]
    },
    {
      "cell_type": "code",
      "source": [
        "#float basically means decimal\n",
        "\n",
        "print(4.5)\n",
        "print(1.7e308)\n",
        "print(1.7e309)"
      ],
      "metadata": {
        "colab": {
          "base_uri": "https://localhost:8080/"
        },
        "id": "Mbz6WIKzUz7G",
        "outputId": "dc64aa53-ac2b-4621-f3a4-d329e15aa97d"
      },
      "execution_count": 19,
      "outputs": [
        {
          "output_type": "stream",
          "name": "stdout",
          "text": [
            "4.5\n",
            "1.7e+308\n",
            "inf\n"
          ]
        }
      ]
    },
    {
      "cell_type": "code",
      "source": [
        "#boolean - True False\n",
        "print(True)\n",
        "print(False)"
      ],
      "metadata": {
        "id": "nxbF5c0qVbXV",
        "outputId": "33a54b06-6b80-4c22-93b8-d84fd5c3fdf2",
        "colab": {
          "base_uri": "https://localhost:8080/"
        }
      },
      "execution_count": 20,
      "outputs": [
        {
          "output_type": "stream",
          "name": "stdout",
          "text": [
            "True\n",
            "False\n"
          ]
        }
      ]
    },
    {
      "cell_type": "code",
      "source": [
        "#complex - 2+3i (iota) its a invalid decimal literal\n",
        "\n",
        "print(4+5j)\n",
        "print(2+3j)"
      ],
      "metadata": {
        "id": "mUEeR7PdVkmV",
        "outputId": "8a0e6aba-e8ea-4679-b7c4-86856b950424",
        "colab": {
          "base_uri": "https://localhost:8080/"
        }
      },
      "execution_count": 26,
      "outputs": [
        {
          "output_type": "stream",
          "name": "stdout",
          "text": [
            "(4+5j)\n",
            "(2+3j)\n"
          ]
        }
      ]
    },
    {
      "cell_type": "code",
      "source": [
        "#string\n",
        "\n",
        "print('India')\n",
        "print(\"India\")\n",
        "print('''India''')\n",
        "print(\"\"\"India\"\"\")"
      ],
      "metadata": {
        "id": "_Wr5zDdUVoCw",
        "outputId": "d22ec484-11dd-4a64-fda1-fa5b0ae20c98",
        "colab": {
          "base_uri": "https://localhost:8080/"
        }
      },
      "execution_count": 29,
      "outputs": [
        {
          "output_type": "stream",
          "name": "stdout",
          "text": [
            "India\n",
            "India\n",
            "India\n",
            "India\n"
          ]
        }
      ]
    },
    {
      "cell_type": "code",
      "source": [
        "# list - In other languages its an array\n",
        "\n",
        "print([1,2,3,4,5])"
      ],
      "metadata": {
        "id": "qF82c1J8WIYa",
        "outputId": "69c1ffff-2a77-424f-cb22-e736d64b4ab9",
        "colab": {
          "base_uri": "https://localhost:8080/"
        }
      },
      "execution_count": 30,
      "outputs": [
        {
          "output_type": "stream",
          "name": "stdout",
          "text": [
            "[1, 2, 3, 4, 5]\n"
          ]
        }
      ]
    },
    {
      "cell_type": "code",
      "source": [
        "# tuple - uses small brackets\n",
        "\n",
        "print((1,2,3,4,5))"
      ],
      "metadata": {
        "id": "m9T2m7AQWV9s",
        "outputId": "2448b508-2169-4ff4-9ae1-3403ade0479f",
        "colab": {
          "base_uri": "https://localhost:8080/"
        }
      },
      "execution_count": 31,
      "outputs": [
        {
          "output_type": "stream",
          "name": "stdout",
          "text": [
            "(1, 2, 3, 4, 5)\n"
          ]
        }
      ]
    },
    {
      "cell_type": "code",
      "source": [
        "# sets - uses curly brackets\n",
        "\n",
        "print({1,2,3,4,5})"
      ],
      "metadata": {
        "id": "4K30wIcDWdKZ",
        "outputId": "993bac94-66d0-4bf2-c47e-d9204004b1b5",
        "colab": {
          "base_uri": "https://localhost:8080/"
        }
      },
      "execution_count": 33,
      "outputs": [
        {
          "output_type": "stream",
          "name": "stdout",
          "text": [
            "{1, 2, 3, 4, 5}\n"
          ]
        }
      ]
    },
    {
      "cell_type": "code",
      "source": [
        "# dictionary - searching is very fast - key value pairs\n",
        "\n",
        "print({\"Name\": \"Tree\", \"Age\": 205, \"Place\": \"Amazon\"})"
      ],
      "metadata": {
        "id": "nueG028zWrNK",
        "outputId": "3633fc89-75ba-4e7e-a73e-e12d614187f9",
        "colab": {
          "base_uri": "https://localhost:8080/"
        }
      },
      "execution_count": 35,
      "outputs": [
        {
          "output_type": "stream",
          "name": "stdout",
          "text": [
            "{'Name': 'Tree', 'Age': 205, 'Place': 'Amazon'}\n"
          ]
        }
      ]
    }
  ]
}