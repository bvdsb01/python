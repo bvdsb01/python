{
  "nbformat": 4,
  "nbformat_minor": 0,
  "metadata": {
    "colab": {
      "provenance": [],
      "authorship_tag": "ABX9TyOsVUIXeo2GT4Y4wLY6Vmn6",
      "include_colab_link": true
    },
    "kernelspec": {
      "name": "python3",
      "display_name": "Python 3"
    },
    "language_info": {
      "name": "python"
    }
  },
  "cells": [
    {
      "cell_type": "markdown",
      "metadata": {
        "id": "view-in-github",
        "colab_type": "text"
      },
      "source": [
        "<a href=\"https://colab.research.google.com/github/bvdsb01/python/blob/main/Iterators.ipynb\" target=\"_parent\"><img src=\"https://colab.research.google.com/assets/colab-badge.svg\" alt=\"Open In Colab\"/></a>"
      ]
    },
    {
      "cell_type": "markdown",
      "source": [
        "#**What is an Iteration?**\n",
        "Iteration is a general term for taking each item of something, one after another. Any time you use a loop, explicit or implicit to go over a group of items, that is iteration."
      ],
      "metadata": {
        "id": "ohW9yVx7f1Jw"
      }
    },
    {
      "cell_type": "markdown",
      "source": [
        "#**What is Iterator?**\n",
        "An iterator is an object that allows the programmer to traverse through a sequence of data without having to store the entire data in the memory."
      ],
      "metadata": {
        "id": "GMXVP_23fG37"
      }
    },
    {
      "cell_type": "code",
      "execution_count": 10,
      "metadata": {
        "colab": {
          "base_uri": "https://localhost:8080/"
        },
        "id": "zot5RCfwcThM",
        "outputId": "d354d45e-d6c6-45c8-b6ae-00aa656e5c66"
      },
      "outputs": [
        {
          "output_type": "stream",
          "name": "stdout",
          "text": [
            "range(1, 10000)\n",
            "48\n",
            "48\n"
          ]
        }
      ],
      "source": [
        "import sys\n",
        "x = range(1, 10000) #sabkuch memory mai store nahi kiya, it created an iterator hence less size\n",
        "print(x)\n",
        "print(sys.getsizeof(x))\n",
        "\n",
        "\n",
        "y = range(1, 100000000) #even on increasing the size (adding more zeros) size nahi badh raha\n",
        "print(sys.getsizeof(y))"
      ]
    },
    {
      "cell_type": "code",
      "source": [
        "l = [x for x in range(1,10000)] #ek saath memory mai 10000 numbers ko store kar liya, hence more size\n",
        "sys.getsizeof(l)"
      ],
      "metadata": {
        "colab": {
          "base_uri": "https://localhost:8080/"
        },
        "id": "PmAtceNed1dh",
        "outputId": "169df17c-7096-4340-84ac-5ad3cbc57db5"
      },
      "execution_count": 8,
      "outputs": [
        {
          "output_type": "execute_result",
          "data": {
            "text/plain": [
              "85176"
            ]
          },
          "metadata": {},
          "execution_count": 8
        }
      ]
    },
    {
      "cell_type": "markdown",
      "source": [
        "#**What is Iterable?**\n",
        "Kisi bhi cheez ke upar agar loop chala sakte hai toh its an iterable like list, range().\n",
        "\n",
        "Iterable ek iterator deta hai when passed to iter() method."
      ],
      "metadata": {
        "id": "7XG99ZrSfl-O"
      }
    },
    {
      "cell_type": "markdown",
      "source": [
        "* Iteration - process of traversing one by one on the items of the object.\n",
        "* Iterable - object jiske upar iteration kar sake\n",
        "* Iterator - woh object jiski help sae iteration hota hai."
      ],
      "metadata": {
        "id": "mKxh0-d3gOmO"
      }
    },
    {
      "cell_type": "code",
      "source": [
        "#Example\n",
        "\n",
        "# l is an iterable\n",
        "l = [1,2,3]\n",
        "\n",
        "# iter(l) is an iterator\n",
        "print(iter(l))"
      ],
      "metadata": {
        "colab": {
          "base_uri": "https://localhost:8080/"
        },
        "id": "f15rIxAWeUPP",
        "outputId": "85e90ed1-26e9-4e73-f589-4fa65ba15b0e"
      },
      "execution_count": 11,
      "outputs": [
        {
          "output_type": "stream",
          "name": "stdout",
          "text": [
            "<list_iterator object at 0x7ff5bc163940>\n"
          ]
        }
      ]
    },
    {
      "cell_type": "markdown",
      "source": [
        "List is iterable but not an iterator because list mai saari cheezein ek saath store hoti hai which is not the case with the iterator"
      ],
      "metadata": {
        "id": "68xwu4l9hhC9"
      }
    },
    {
      "cell_type": "markdown",
      "source": [
        "#**Points to remember**\n",
        "* All iterators are iterable\n",
        "* Not all iterables are iterators (e.g. list)"
      ],
      "metadata": {
        "id": "vgUCk1KPhyUx"
      }
    },
    {
      "cell_type": "markdown",
      "source": [
        "#**Trick**\n",
        "* Every iterable has iter() function\n",
        "*"
      ],
      "metadata": {
        "id": "hIWOphcIgwDn"
      }
    },
    {
      "cell_type": "code",
      "source": [
        "#Question - is a = 2 iterable\n",
        "a = 2 # it will be iterable agar iske upar loop chala sakein toh\n",
        "for i in a:\n",
        "  print(i)"
      ],
      "metadata": {
        "colab": {
          "base_uri": "https://localhost:8080/",
          "height": 193
        },
        "id": "Of2sfdJmh8eR",
        "outputId": "f5618fdb-5688-4c36-ade7-8df7bcb90e90"
      },
      "execution_count": 13,
      "outputs": [
        {
          "output_type": "error",
          "ename": "TypeError",
          "evalue": "'int' object is not iterable",
          "traceback": [
            "\u001b[0;31m---------------------------------------------------------------------------\u001b[0m",
            "\u001b[0;31mTypeError\u001b[0m                                 Traceback (most recent call last)",
            "\u001b[0;32m<ipython-input-13-62febe71d889>\u001b[0m in \u001b[0;36m<cell line: 3>\u001b[0;34m()\u001b[0m\n\u001b[1;32m      1\u001b[0m \u001b[0;31m#Question - is a = 2 iterable\u001b[0m\u001b[0;34m\u001b[0m\u001b[0;34m\u001b[0m\u001b[0m\n\u001b[1;32m      2\u001b[0m \u001b[0ma\u001b[0m \u001b[0;34m=\u001b[0m \u001b[0;36m2\u001b[0m \u001b[0;31m#it will be iterable agar iske upar loop chala sakein toh\u001b[0m\u001b[0;34m\u001b[0m\u001b[0;34m\u001b[0m\u001b[0m\n\u001b[0;32m----> 3\u001b[0;31m \u001b[0;32mfor\u001b[0m \u001b[0mi\u001b[0m \u001b[0;32min\u001b[0m \u001b[0ma\u001b[0m\u001b[0;34m:\u001b[0m\u001b[0;34m\u001b[0m\u001b[0;34m\u001b[0m\u001b[0m\n\u001b[0m\u001b[1;32m      4\u001b[0m   \u001b[0mprint\u001b[0m\u001b[0;34m(\u001b[0m\u001b[0mi\u001b[0m\u001b[0;34m)\u001b[0m\u001b[0;34m\u001b[0m\u001b[0;34m\u001b[0m\u001b[0m\n",
            "\u001b[0;31mTypeError\u001b[0m: 'int' object is not iterable"
          ]
        }
      ]
    },
    {
      "cell_type": "code",
      "source": [
        "dir(a) # do you find iter(), if not then its not iterable"
      ],
      "metadata": {
        "colab": {
          "base_uri": "https://localhost:8080/"
        },
        "id": "QAiIMiVviK4Z",
        "outputId": "5c0bc07a-ee98-44df-828a-fdabfd9987a5"
      },
      "execution_count": 14,
      "outputs": [
        {
          "output_type": "execute_result",
          "data": {
            "text/plain": [
              "['__abs__',\n",
              " '__add__',\n",
              " '__and__',\n",
              " '__bool__',\n",
              " '__ceil__',\n",
              " '__class__',\n",
              " '__delattr__',\n",
              " '__dir__',\n",
              " '__divmod__',\n",
              " '__doc__',\n",
              " '__eq__',\n",
              " '__float__',\n",
              " '__floor__',\n",
              " '__floordiv__',\n",
              " '__format__',\n",
              " '__ge__',\n",
              " '__getattribute__',\n",
              " '__getnewargs__',\n",
              " '__gt__',\n",
              " '__hash__',\n",
              " '__index__',\n",
              " '__init__',\n",
              " '__init_subclass__',\n",
              " '__int__',\n",
              " '__invert__',\n",
              " '__le__',\n",
              " '__lshift__',\n",
              " '__lt__',\n",
              " '__mod__',\n",
              " '__mul__',\n",
              " '__ne__',\n",
              " '__neg__',\n",
              " '__new__',\n",
              " '__or__',\n",
              " '__pos__',\n",
              " '__pow__',\n",
              " '__radd__',\n",
              " '__rand__',\n",
              " '__rdivmod__',\n",
              " '__reduce__',\n",
              " '__reduce_ex__',\n",
              " '__repr__',\n",
              " '__rfloordiv__',\n",
              " '__rlshift__',\n",
              " '__rmod__',\n",
              " '__rmul__',\n",
              " '__ror__',\n",
              " '__round__',\n",
              " '__rpow__',\n",
              " '__rrshift__',\n",
              " '__rshift__',\n",
              " '__rsub__',\n",
              " '__rtruediv__',\n",
              " '__rxor__',\n",
              " '__setattr__',\n",
              " '__sizeof__',\n",
              " '__str__',\n",
              " '__sub__',\n",
              " '__subclasshook__',\n",
              " '__truediv__',\n",
              " '__trunc__',\n",
              " '__xor__',\n",
              " 'as_integer_ratio',\n",
              " 'bit_count',\n",
              " 'bit_length',\n",
              " 'conjugate',\n",
              " 'denominator',\n",
              " 'from_bytes',\n",
              " 'imag',\n",
              " 'numerator',\n",
              " 'real',\n",
              " 'to_bytes']"
            ]
          },
          "metadata": {},
          "execution_count": 14
        }
      ]
    },
    {
      "cell_type": "code",
      "source": [
        "t = (1,2,3)\n",
        "dir(t) # found __iter__, hence tuple is iterable"
      ],
      "metadata": {
        "colab": {
          "base_uri": "https://localhost:8080/"
        },
        "id": "o7E8jRpAijlp",
        "outputId": "9a33e3e3-3b71-446b-8380-5a412e9f1e90"
      },
      "execution_count": 15,
      "outputs": [
        {
          "output_type": "execute_result",
          "data": {
            "text/plain": [
              "['__add__',\n",
              " '__class__',\n",
              " '__class_getitem__',\n",
              " '__contains__',\n",
              " '__delattr__',\n",
              " '__dir__',\n",
              " '__doc__',\n",
              " '__eq__',\n",
              " '__format__',\n",
              " '__ge__',\n",
              " '__getattribute__',\n",
              " '__getitem__',\n",
              " '__getnewargs__',\n",
              " '__gt__',\n",
              " '__hash__',\n",
              " '__init__',\n",
              " '__init_subclass__',\n",
              " '__iter__',\n",
              " '__le__',\n",
              " '__len__',\n",
              " '__lt__',\n",
              " '__mul__',\n",
              " '__ne__',\n",
              " '__new__',\n",
              " '__reduce__',\n",
              " '__reduce_ex__',\n",
              " '__repr__',\n",
              " '__rmul__',\n",
              " '__setattr__',\n",
              " '__sizeof__',\n",
              " '__str__',\n",
              " '__subclasshook__',\n",
              " 'count',\n",
              " 'index']"
            ]
          },
          "metadata": {},
          "execution_count": 15
        }
      ]
    },
    {
      "cell_type": "markdown",
      "source": [
        "2 ways to find if an object is iterable or not\n",
        "*  for loop\n",
        "*  __iter__ via dir(object)"
      ],
      "metadata": {
        "id": "VuKN57n8i9Uc"
      }
    },
    {
      "cell_type": "markdown",
      "source": [
        "Way to check if an object is iterator or not-\n",
        "*  use dir(object) and see if both iter() and next() are available"
      ],
      "metadata": {
        "id": "nC8V9LzTjLP2"
      }
    },
    {
      "cell_type": "code",
      "source": [
        "# list is iterable but not iterator as it has __iter__ but not __next__\n",
        "l = [1,2,3]\n",
        "\n",
        "# iter_l is an iterator it has both __iter__ and __next__\n",
        "iter_l = iter(l)\n",
        "dir(iter_l)"
      ],
      "metadata": {
        "colab": {
          "base_uri": "https://localhost:8080/"
        },
        "id": "i0ud__W8izEs",
        "outputId": "3d6c8dcb-1a22-436d-afb6-6ac529491dc3"
      },
      "execution_count": 16,
      "outputs": [
        {
          "output_type": "execute_result",
          "data": {
            "text/plain": [
              "['__class__',\n",
              " '__delattr__',\n",
              " '__dir__',\n",
              " '__doc__',\n",
              " '__eq__',\n",
              " '__format__',\n",
              " '__ge__',\n",
              " '__getattribute__',\n",
              " '__gt__',\n",
              " '__hash__',\n",
              " '__init__',\n",
              " '__init_subclass__',\n",
              " '__iter__',\n",
              " '__le__',\n",
              " '__length_hint__',\n",
              " '__lt__',\n",
              " '__ne__',\n",
              " '__new__',\n",
              " '__next__',\n",
              " '__reduce__',\n",
              " '__reduce_ex__',\n",
              " '__repr__',\n",
              " '__setattr__',\n",
              " '__setstate__',\n",
              " '__sizeof__',\n",
              " '__str__',\n",
              " '__subclasshook__']"
            ]
          },
          "metadata": {},
          "execution_count": 16
        }
      ]
    },
    {
      "cell_type": "code",
      "source": [],
      "metadata": {
        "id": "Enka4skPjydi"
      },
      "execution_count": null,
      "outputs": []
    }
  ]
}