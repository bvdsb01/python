{
  "nbformat": 4,
  "nbformat_minor": 0,
  "metadata": {
    "colab": {
      "provenance": [],
      "authorship_tag": "ABX9TyOlaHMN2RfuJ5WW8htiI2pf",
      "include_colab_link": true
    },
    "kernelspec": {
      "name": "python3",
      "display_name": "Python 3"
    },
    "language_info": {
      "name": "python"
    }
  },
  "cells": [
    {
      "cell_type": "markdown",
      "metadata": {
        "id": "view-in-github",
        "colab_type": "text"
      },
      "source": [
        "<a href=\"https://colab.research.google.com/github/bvdsb01/python/blob/main/Day5_TypeConversion.ipynb\" target=\"_parent\"><img src=\"https://colab.research.google.com/assets/colab-badge.svg\" alt=\"Open In Colab\"/></a>"
      ]
    },
    {
      "cell_type": "markdown",
      "source": [
        "#String is a universal format because it can hold other datatypes"
      ],
      "metadata": {
        "id": "2tUwGbrzJxM8"
      }
    },
    {
      "cell_type": "markdown",
      "source": [
        "Clock(not alarm), Calendar, Blogs - software is talking to us but we are not giving any input these types of softwares are called **Static Softwares**"
      ],
      "metadata": {
        "id": "pHym_De8IAlq"
      }
    },
    {
      "cell_type": "markdown",
      "source": [
        "Youtube - we give input while searching, typing comment, liking the video, sharing the video.\n",
        "\n",
        "Whatsapp\n",
        "\n",
        "Booking on swiggy - **Dynamic Software**"
      ],
      "metadata": {
        "id": "RbZMMQiXIVvp"
      }
    },
    {
      "cell_type": "markdown",
      "source": [
        "**Interactive Softwares are Dynamic Softwares**\n",
        "\n",
        "To make dynamic softwares we need input from the users."
      ],
      "metadata": {
        "id": "rzQ5bHzgIrxE"
      }
    },
    {
      "cell_type": "code",
      "source": [
        "input(prompt = \"Enter a number\")"
      ],
      "metadata": {
        "colab": {
          "base_uri": "https://localhost:8080/",
          "height": 53
        },
        "id": "XR9WCHAgIPXT",
        "outputId": "68dcb0dd-5299-4a42-d382-615eeaa2f04c"
      },
      "execution_count": 2,
      "outputs": [
        {
          "name": "stdout",
          "output_type": "stream",
          "text": [
            "Enter a number23\n"
          ]
        },
        {
          "output_type": "execute_result",
          "data": {
            "text/plain": [
              "'23'"
            ],
            "application/vnd.google.colaboratory.intrinsic+json": {
              "type": "string"
            }
          },
          "metadata": {},
          "execution_count": 2
        }
      ]
    },
    {
      "cell_type": "markdown",
      "source": [
        "#Type Conversion - Implicit(as a programmer batana nahi padta) and Explicit(as a programmer batana padta hai)"
      ],
      "metadata": {
        "id": "dcuhwLhJKkp0"
      }
    },
    {
      "cell_type": "code",
      "source": [
        "4 + 5.5 #implicit type conversion"
      ],
      "metadata": {
        "colab": {
          "base_uri": "https://localhost:8080/"
        },
        "id": "Lje-ZiQnKom7",
        "outputId": "0bcb531d-8bc6-4a18-9132-35c4f8c4bc35"
      },
      "execution_count": 3,
      "outputs": [
        {
          "output_type": "execute_result",
          "data": {
            "text/plain": [
              "9.5"
            ]
          },
          "metadata": {},
          "execution_count": 3
        }
      ]
    },
    {
      "cell_type": "code",
      "source": [
        "5 + 6+7j #implicit type converison"
      ],
      "metadata": {
        "colab": {
          "base_uri": "https://localhost:8080/"
        },
        "id": "9ibnkwBhK4_L",
        "outputId": "c18fc8a5-bf64-4cac-e203-b2482abfcaf6"
      },
      "execution_count": 5,
      "outputs": [
        {
          "output_type": "execute_result",
          "data": {
            "text/plain": [
              "(11+7j)"
            ]
          },
          "metadata": {},
          "execution_count": 5
        }
      ]
    },
    {
      "cell_type": "code",
      "source": [
        "4.5 + 5+5j #implicit type conversion"
      ],
      "metadata": {
        "colab": {
          "base_uri": "https://localhost:8080/"
        },
        "id": "2bhzSUakK_zj",
        "outputId": "fd57df62-0d60-4544-8ef3-e508e66692fc"
      },
      "execution_count": 6,
      "outputs": [
        {
          "output_type": "execute_result",
          "data": {
            "text/plain": [
              "(9.5+5j)"
            ]
          },
          "metadata": {},
          "execution_count": 6
        }
      ]
    },
    {
      "cell_type": "code",
      "source": [
        "# for explicit type conversion we have built-in functions\n",
        "#int() converts any **compatible** datatype to integer\n",
        "# there is a function available for every data type for explicit type conversion\n",
        "# only those things are converted which are convertible\n",
        "\n",
        "print(int(4.5))\n",
        "print(int('45'))\n",
        "print(float(4))\n",
        "print(str(5))"
      ],
      "metadata": {
        "colab": {
          "base_uri": "https://localhost:8080/"
        },
        "id": "XFzg2T-0LJzh",
        "outputId": "021e4b36-cf0a-45f1-fcf6-a60114a078c3"
      },
      "execution_count": 13,
      "outputs": [
        {
          "output_type": "stream",
          "name": "stdout",
          "text": [
            "4\n",
            "45\n",
            "4.0\n",
            "5\n"
          ]
        }
      ]
    },
    {
      "cell_type": "code",
      "source": [
        "print(bool(2))\n",
        "print(bool(0))\n",
        "print(bool(-1))"
      ],
      "metadata": {
        "colab": {
          "base_uri": "https://localhost:8080/"
        },
        "id": "FY4ak99DLYjr",
        "outputId": "673f849d-599e-4c90-9e1f-c535f7540067"
      },
      "execution_count": 14,
      "outputs": [
        {
          "output_type": "stream",
          "name": "stdout",
          "text": [
            "True\n",
            "False\n",
            "True\n"
          ]
        }
      ]
    },
    {
      "cell_type": "code",
      "source": [
        "print(complex(4))"
      ],
      "metadata": {
        "colab": {
          "base_uri": "https://localhost:8080/"
        },
        "id": "36wgBD3fLzOg",
        "outputId": "18fabdae-f40a-4d2e-fb95-77ef99d0a0ce"
      },
      "execution_count": 15,
      "outputs": [
        {
          "output_type": "stream",
          "name": "stdout",
          "text": [
            "(4+0j)\n"
          ]
        }
      ]
    },
    {
      "cell_type": "code",
      "source": [
        "list('HELLO')"
      ],
      "metadata": {
        "colab": {
          "base_uri": "https://localhost:8080/"
        },
        "id": "WXrmYi6DL311",
        "outputId": "a8a280f3-bfb8-4e9a-aab3-71dec989b53f"
      },
      "execution_count": 16,
      "outputs": [
        {
          "output_type": "execute_result",
          "data": {
            "text/plain": [
              "['H', 'E', 'L', 'L', 'O']"
            ]
          },
          "metadata": {},
          "execution_count": 16
        }
      ]
    },
    {
      "cell_type": "code",
      "source": [
        "tuple('hell0')"
      ],
      "metadata": {
        "colab": {
          "base_uri": "https://localhost:8080/"
        },
        "id": "jSt7EbOwMB5N",
        "outputId": "d61af7bf-b5ef-4e3b-ae15-05540ede0938"
      },
      "execution_count": 18,
      "outputs": [
        {
          "output_type": "execute_result",
          "data": {
            "text/plain": [
              "('h', 'e', 'l', 'l', '0')"
            ]
          },
          "metadata": {},
          "execution_count": 18
        }
      ]
    },
    {
      "cell_type": "code",
      "source": [
        "set('hello')"
      ],
      "metadata": {
        "colab": {
          "base_uri": "https://localhost:8080/"
        },
        "id": "qM7yEWa7MFPz",
        "outputId": "c0c2b0d4-9ca9-4af0-ced1-53bd54482a2e"
      },
      "execution_count": 20,
      "outputs": [
        {
          "output_type": "execute_result",
          "data": {
            "text/plain": [
              "{'e', 'h', 'l', 'o'}"
            ]
          },
          "metadata": {},
          "execution_count": 20
        }
      ]
    },
    {
      "cell_type": "markdown",
      "source": [
        "#Type conversion is not a permanent operation\n",
        "\n",
        "#Type casting is a permanent operation like in Java"
      ],
      "metadata": {
        "id": "AxQlRNC2MgJ4"
      }
    },
    {
      "cell_type": "code",
      "source": [
        "a = 4.5\n",
        "print(a)\n",
        "print(int(a))\n",
        "print(a)"
      ],
      "metadata": {
        "colab": {
          "base_uri": "https://localhost:8080/"
        },
        "id": "FfX0-VCDMIFQ",
        "outputId": "adbf0431-c4cd-466e-dddf-9f28aacd6038"
      },
      "execution_count": 22,
      "outputs": [
        {
          "output_type": "stream",
          "name": "stdout",
          "text": [
            "4.5\n",
            "4\n",
            "4.5\n"
          ]
        }
      ]
    }
  ]
}