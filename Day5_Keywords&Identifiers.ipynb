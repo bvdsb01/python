{
  "nbformat": 4,
  "nbformat_minor": 0,
  "metadata": {
    "colab": {
      "provenance": [],
      "authorship_tag": "ABX9TyNw8HDywSbvIsyAhNBsCliI",
      "include_colab_link": true
    },
    "kernelspec": {
      "name": "python3",
      "display_name": "Python 3"
    },
    "language_info": {
      "name": "python"
    }
  },
  "cells": [
    {
      "cell_type": "markdown",
      "metadata": {
        "id": "view-in-github",
        "colab_type": "text"
      },
      "source": [
        "<a href=\"https://colab.research.google.com/github/bvdsb01/python/blob/main/Day5_Keywords%26Identifiers.ipynb\" target=\"_parent\"><img src=\"https://colab.research.google.com/assets/colab-badge.svg\" alt=\"Open In Colab\"/></a>"
      ]
    },
    {
      "cell_type": "markdown",
      "source": [
        "#Keywords\n",
        "\n",
        "Python is a case sensitive language.\n"
      ],
      "metadata": {
        "id": "4prG7ee5FlaG"
      }
    },
    {
      "cell_type": "markdown",
      "source": [
        "A Keyword is a word that is reserved by a program because that word has a special meaning. Keywords can be commands or parameters. Every programming language has a set of keywords that cannot be used as variable names"
      ],
      "metadata": {
        "id": "vUl5Eo8HFsBJ"
      }
    },
    {
      "cell_type": "code",
      "source": [
        "#python has 35 keywords\n",
        "\n",
        "import keyword\n",
        "print(keyword.kwlist)\n",
        "print(len(keyword.kwlist))"
      ],
      "metadata": {
        "colab": {
          "base_uri": "https://localhost:8080/"
        },
        "id": "iHJkbjJZFqpV",
        "outputId": "368e2a05-24d4-46c4-eff5-814af8e57b35"
      },
      "execution_count": 7,
      "outputs": [
        {
          "output_type": "stream",
          "name": "stdout",
          "text": [
            "['False', 'None', 'True', 'and', 'as', 'assert', 'async', 'await', 'break', 'class', 'continue', 'def', 'del', 'elif', 'else', 'except', 'finally', 'for', 'from', 'global', 'if', 'import', 'in', 'is', 'lambda', 'nonlocal', 'not', 'or', 'pass', 'raise', 'return', 'try', 'while', 'with', 'yield']\n",
            "35\n"
          ]
        }
      ]
    },
    {
      "cell_type": "markdown",
      "source": [
        "#Identifiers\n",
        "\n",
        "A python identifier is a name used to identify a variable, function, class, module or other object.\n",
        "\n",
        "**Rules for setting identifiers**\n",
        "\n",
        "\n",
        "*   can only start with alphabet or _\n",
        "*   followed by 0 or more letter, _ and digits\n",
        "*   keywords cannot be used as an identifiers\n",
        "\n"
      ],
      "metadata": {
        "id": "nHyw6BzcGkGf"
      }
    },
    {
      "cell_type": "code",
      "source": [
        "_ = \"amazon\"\n",
        "__ = \"forest\"\n",
        "____ = \"tree\"\n",
        "\n",
        "\n",
        "print(_)\n",
        "print(__)\n",
        "print(____)"
      ],
      "metadata": {
        "colab": {
          "base_uri": "https://localhost:8080/"
        },
        "id": "xY-LgwIvF-AH",
        "outputId": "727a3ca8-7177-4bf2-fd3b-34bd1306eacc"
      },
      "execution_count": 12,
      "outputs": [
        {
          "output_type": "stream",
          "name": "stdout",
          "text": [
            "amazon\n",
            "forest\n",
            "tree\n"
          ]
        }
      ]
    },
    {
      "cell_type": "code",
      "source": [
        "name_ = \"sky\"\n",
        "print(name_)"
      ],
      "metadata": {
        "colab": {
          "base_uri": "https://localhost:8080/"
        },
        "id": "CWzgxvLvHiCO",
        "outputId": "8bf78e0f-0272-43f2-c495-53add0f080b2"
      },
      "execution_count": 16,
      "outputs": [
        {
          "output_type": "stream",
          "name": "stdout",
          "text": [
            "sky\n"
          ]
        }
      ]
    },
    {
      "cell_type": "code",
      "source": [
        "first-name = \"river\"\n",
        "print(first-name)"
      ],
      "metadata": {
        "colab": {
          "base_uri": "https://localhost:8080/",
          "height": 106
        },
        "id": "5FVVyinSHHGP",
        "outputId": "e6d14c70-9d0b-4f56-cc9f-e3862f3ef579"
      },
      "execution_count": 13,
      "outputs": [
        {
          "output_type": "error",
          "ename": "SyntaxError",
          "evalue": "cannot assign to expression here. Maybe you meant '==' instead of '='? (<ipython-input-13-ffea97b3ee7b>, line 1)",
          "traceback": [
            "\u001b[0;36m  File \u001b[0;32m\"<ipython-input-13-ffea97b3ee7b>\"\u001b[0;36m, line \u001b[0;32m1\u001b[0m\n\u001b[0;31m    first-name = \"river\"\u001b[0m\n\u001b[0m    ^\u001b[0m\n\u001b[0;31mSyntaxError\u001b[0m\u001b[0;31m:\u001b[0m cannot assign to expression here. Maybe you meant '==' instead of '='?\n"
          ]
        }
      ]
    },
    {
      "cell_type": "code",
      "source": [
        "1name = \"na\"\n",
        "print(1name)"
      ],
      "metadata": {
        "colab": {
          "base_uri": "https://localhost:8080/",
          "height": 106
        },
        "id": "bPaoNBB1HJbi",
        "outputId": "6a5f2b3a-399f-463c-b61c-adea381ae22c"
      },
      "execution_count": 14,
      "outputs": [
        {
          "output_type": "error",
          "ename": "SyntaxError",
          "evalue": "invalid decimal literal (<ipython-input-14-f8fd7b4a3e69>, line 1)",
          "traceback": [
            "\u001b[0;36m  File \u001b[0;32m\"<ipython-input-14-f8fd7b4a3e69>\"\u001b[0;36m, line \u001b[0;32m1\u001b[0m\n\u001b[0;31m    1name = \"na\"\u001b[0m\n\u001b[0m    ^\u001b[0m\n\u001b[0;31mSyntaxError\u001b[0m\u001b[0;31m:\u001b[0m invalid decimal literal\n"
          ]
        }
      ]
    }
  ]
}