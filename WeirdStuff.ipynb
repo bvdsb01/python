{
  "nbformat": 4,
  "nbformat_minor": 0,
  "metadata": {
    "colab": {
      "provenance": [],
      "authorship_tag": "ABX9TyOy9Hb+b4Zke8dXkuCAyQOK",
      "include_colab_link": true
    },
    "kernelspec": {
      "name": "python3",
      "display_name": "Python 3"
    },
    "language_info": {
      "name": "python"
    }
  },
  "cells": [
    {
      "cell_type": "markdown",
      "metadata": {
        "id": "view-in-github",
        "colab_type": "text"
      },
      "source": [
        "<a href=\"https://colab.research.google.com/github/bvdsb01/python/blob/main/WeirdStuff.ipynb\" target=\"_parent\"><img src=\"https://colab.research.google.com/assets/colab-badge.svg\" alt=\"Open In Colab\"/></a>"
      ]
    },
    {
      "cell_type": "markdown",
      "source": [
        "#Python's Common Weird Stuff"
      ],
      "metadata": {
        "id": "Xdck1nw3bLQ-"
      }
    },
    {
      "cell_type": "code",
      "execution_count": 13,
      "metadata": {
        "colab": {
          "base_uri": "https://localhost:8080/"
        },
        "id": "WF6ezLnfZq18",
        "outputId": "146a9b04-108e-45bc-8779-149b54347f66"
      },
      "outputs": [
        {
          "output_type": "execute_result",
          "data": {
            "text/plain": [
              "1854"
            ]
          },
          "metadata": {},
          "execution_count": 13
        }
      ],
      "source": [
        "import sys\n",
        "a = 5\n",
        "sys.getrefcount(a)"
      ]
    },
    {
      "cell_type": "code",
      "source": [
        "b = 919\n",
        "sys.getrefcount(b)"
      ],
      "metadata": {
        "colab": {
          "base_uri": "https://localhost:8080/"
        },
        "id": "PBZhNHMpZ_dD",
        "outputId": "fb8519fc-5a43-43a3-b3e5-223bceb71366"
      },
      "execution_count": 7,
      "outputs": [
        {
          "output_type": "execute_result",
          "data": {
            "text/plain": [
              "3"
            ]
          },
          "metadata": {},
          "execution_count": 7
        }
      ]
    },
    {
      "cell_type": "code",
      "source": [
        "c = 1\n",
        "sys.getrefcount(c)"
      ],
      "metadata": {
        "colab": {
          "base_uri": "https://localhost:8080/"
        },
        "id": "jrwWAUYRaH2M",
        "outputId": "10af90a6-c735-45c3-a448-fdccdf0b6aeb"
      },
      "execution_count": 8,
      "outputs": [
        {
          "output_type": "execute_result",
          "data": {
            "text/plain": [
              "15146"
            ]
          },
          "metadata": {},
          "execution_count": 8
        }
      ]
    },
    {
      "cell_type": "code",
      "source": [
        "b = a\n",
        "c = b\n",
        "print(id( b))\n",
        "print(id(a))\n",
        "print(id(c))"
      ],
      "metadata": {
        "colab": {
          "base_uri": "https://localhost:8080/"
        },
        "id": "jK1cpCA4aNTh",
        "outputId": "4a67c4f1-2f59-4f37-c526-7f6ce68ffcd2"
      },
      "execution_count": 11,
      "outputs": [
        {
          "output_type": "stream",
          "name": "stdout",
          "text": [
            "134823324909936\n",
            "134823324909936\n",
            "134823324909936\n"
          ]
        }
      ]
    },
    {
      "cell_type": "code",
      "source": [
        "d = 5\n",
        "print(id(d))"
      ],
      "metadata": {
        "colab": {
          "base_uri": "https://localhost:8080/"
        },
        "id": "GJ5foOmVaVfr",
        "outputId": "bcb4602a-2999-4daa-af77-0432b9d34863"
      },
      "execution_count": 12,
      "outputs": [
        {
          "output_type": "stream",
          "name": "stdout",
          "text": [
            "134823324909936\n"
          ]
        }
      ]
    },
    {
      "cell_type": "code",
      "source": [
        "e = \"hello\"\n",
        "f = \"hello\"\n",
        "print(id(e))\n",
        "print(id(f))"
      ],
      "metadata": {
        "colab": {
          "base_uri": "https://localhost:8080/"
        },
        "id": "WW7TmKTWakwK",
        "outputId": "746c2a43-7577-4a8f-e993-9f4e5f1caf1b"
      },
      "execution_count": 14,
      "outputs": [
        {
          "output_type": "stream",
          "name": "stdout",
          "text": [
            "134822899094320\n",
            "134822899094320\n"
          ]
        }
      ]
    },
    {
      "cell_type": "code",
      "source": [
        "g = \"hel lo\"\n",
        "h = \"hel lo\"\n",
        "print(id(g))\n",
        "print(id(h))"
      ],
      "metadata": {
        "colab": {
          "base_uri": "https://localhost:8080/"
        },
        "id": "lqeFKGUOa259",
        "outputId": "6c2d1e46-3c49-49ee-8988-8bc87f3c0582"
      },
      "execution_count": 16,
      "outputs": [
        {
          "output_type": "stream",
          "name": "stdout",
          "text": [
            "134822044743664\n",
            "134822044734832\n"
          ]
        }
      ]
    },
    {
      "cell_type": "code",
      "source": [
        "i = \"hel_lo\"\n",
        "j = \"hel_lo\"\n",
        "print(id(i))\n",
        "print(id(j))"
      ],
      "metadata": {
        "colab": {
          "base_uri": "https://localhost:8080/"
        },
        "id": "dsUj6ussa9km",
        "outputId": "a15456ef-2c6a-4e42-b7f9-04dd650d44ba"
      },
      "execution_count": 17,
      "outputs": [
        {
          "output_type": "stream",
          "name": "stdout",
          "text": [
            "134822044854192\n",
            "134822044854192\n"
          ]
        }
      ]
    },
    {
      "cell_type": "code",
      "source": [],
      "metadata": {
        "id": "TBZJcllSbIqz"
      },
      "execution_count": null,
      "outputs": []
    }
  ]
}