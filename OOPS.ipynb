{
  "nbformat": 4,
  "nbformat_minor": 0,
  "metadata": {
    "colab": {
      "provenance": [],
      "authorship_tag": "ABX9TyNffcpq/7wzcblJh5Rm/Mzc",
      "include_colab_link": true
    },
    "kernelspec": {
      "name": "python3",
      "display_name": "Python 3"
    },
    "language_info": {
      "name": "python"
    }
  },
  "cells": [
    {
      "cell_type": "markdown",
      "metadata": {
        "id": "view-in-github",
        "colab_type": "text"
      },
      "source": [
        "<a href=\"https://colab.research.google.com/github/bvdsb01/python/blob/main/OOPS.ipynb\" target=\"_parent\"><img src=\"https://colab.research.google.com/assets/colab-badge.svg\" alt=\"Open In Colab\"/></a>"
      ]
    },
    {
      "cell_type": "markdown",
      "source": [
        "#**Encapsulation** - data ko directly khula nahi chodh sakte - convert it to private and then add getter and setter methods"
      ],
      "metadata": {
        "id": "DZNW3X2cJs6a"
      }
    },
    {
      "cell_type": "markdown",
      "source": [
        "Instance variable - variables inside constructor, inn variables ka value har object ke liye alag hota hai\n",
        "Variables for which value of the variable is different for different objects.\n",
        "\n",
        "\n",
        "To make data members and methods private use __\n",
        "\n",
        "Python internally replaces __pin to _Atm_pin\n",
        "\n",
        "Nothing in python is truly private\n"
      ],
      "metadata": {
        "id": "F7PGvBaYEpFt"
      }
    },
    {
      "cell_type": "code",
      "execution_count": null,
      "metadata": {
        "id": "S4HxmQgcEnO2"
      },
      "outputs": [],
      "source": [
        "#Python internally converts __pin to _Atm__pin\n",
        "\n",
        "class Atm:\n",
        "  def __init__(self):\n",
        "\n",
        "    self.__pin = \"\"\n",
        "    self.__balance = 0\n",
        "    self.__menu()\n",
        "\n",
        "  def get_pin(self): #getter\n",
        "    return self.__pin\n",
        "\n",
        "  def set_pin(self, new_pin): #setter\n",
        "    if type(new_pin) == str:\n",
        "      self.__pin = new_pin\n",
        "      print(\"PIN changed\")\n",
        "    else:\n",
        "      print(\"Not Allowed!\")\n",
        "\n",
        "  def __menu(self):\n",
        "    pass\n",
        "\n",
        "sbi = Atm()\n",
        "sbi.__balance = 1"
      ]
    },
    {
      "cell_type": "code",
      "source": [
        "sbi._Atm__balance = \"ydwui\""
      ],
      "metadata": {
        "id": "OiTzBeXRFyTd"
      },
      "execution_count": null,
      "outputs": []
    },
    {
      "cell_type": "markdown",
      "source": [
        "Double underscore is a gentleman's agreement ki this variable is private then why are you using it again."
      ],
      "metadata": {
        "id": "qk0TAVeDIWa7"
      }
    },
    {
      "cell_type": "markdown",
      "source": [
        "Object create karte time hum object ko jiss variable mai store karte hai uss variable ko bola jaata hai **reference variable**"
      ],
      "metadata": {
        "id": "eABRUALzKP9M"
      }
    },
    {
      "cell_type": "markdown",
      "source": [
        "#Aliasing"
      ],
      "metadata": {
        "id": "ie_mTZdfLu9j"
      }
    },
    {
      "cell_type": "code",
      "source": [
        "a = 3\n",
        "b = a\n",
        "print(id(a))\n",
        "print(id(b))"
      ],
      "metadata": {
        "colab": {
          "base_uri": "https://localhost:8080/"
        },
        "id": "zgnxRPFDIC2c",
        "outputId": "b44913ef-c609-4f6b-8160-7b7fa7585af7"
      },
      "execution_count": null,
      "outputs": [
        {
          "output_type": "stream",
          "name": "stdout",
          "text": [
            "134752964935984\n",
            "134752964935984\n"
          ]
        }
      ]
    },
    {
      "cell_type": "code",
      "source": [
        "#Pass by Reference\n",
        "#both the variables cust and customer are pointing at the same variable\n",
        "\n",
        "class Customer:\n",
        "  def __init__(self, name):\n",
        "    self.name = name\n",
        "\n",
        "def greet(customer):\n",
        "  print(id(customer))\n",
        "  customer.name = 'Ram'\n",
        "  print(customer.name)\n",
        "  print(id(customer)) # want to check ki address same hai kya which will prove it is **mutable**\n",
        "\n",
        "cust = Customer('Nitish')\n",
        "#print(id(cust))\n",
        "greet(cust) #cust is passed by reference that is cust and customer both are pointing at the same address\n",
        "print(cust.name)"
      ],
      "metadata": {
        "colab": {
          "base_uri": "https://localhost:8080/"
        },
        "id": "1sXvhrXiLz84",
        "outputId": "b919958d-d8f8-4e6b-a602-4db2a58e524c"
      },
      "execution_count": null,
      "outputs": [
        {
          "output_type": "stream",
          "name": "stdout",
          "text": [
            "Ram\n",
            "Ram\n"
          ]
        }
      ]
    },
    {
      "cell_type": "markdown",
      "source": [
        "#Class objects are mutable like lists, dict and sets"
      ],
      "metadata": {
        "id": "_zOeB5MxNIts"
      }
    },
    {
      "cell_type": "code",
      "source": [
        "def change(l):\n",
        "  print(id(l))\n",
        "  l.append(10)\n",
        "  print(id(l)) # upar change karne ke baad we're checking ki address change hua ya nahi\n",
        "\n",
        "L1 = [1,2,3,4,5]\n",
        "print(id(L1))\n",
        "change(L1) #L1 is passed by reference\n",
        "print(L1)"
      ],
      "metadata": {
        "colab": {
          "base_uri": "https://localhost:8080/"
        },
        "id": "gWYjVeisMEEl",
        "outputId": "3cd8b19b-1f6e-44fd-d00b-6601da060e88"
      },
      "execution_count": null,
      "outputs": [
        {
          "output_type": "stream",
          "name": "stdout",
          "text": [
            "134751683336768\n",
            "134751683336768\n",
            "134751683336768\n",
            "[1, 2, 3, 4, 5, 10]\n"
          ]
        }
      ]
    },
    {
      "cell_type": "markdown",
      "source": [
        "#Inheritance - Code Re-usability\n",
        "Data Members, private members are not inherited\n",
        "\n",
        "Methods\n",
        "\n",
        "Constructor are inherited"
      ],
      "metadata": {
        "id": "mR1qGKjAO138"
      }
    },
    {
      "cell_type": "code",
      "source": [
        "class User:\n",
        "  def login(self):\n",
        "    print(\"Login\")\n",
        "  def register(self):\n",
        "    print(\"Registered\")\n",
        "\n",
        "class Student(User):\n",
        "  def enroll(self):\n",
        "    print(\"Enrolled\")\n",
        "  def review(self):\n",
        "    print(\"Reviewed\")\n",
        "\n",
        "st = Student()\n",
        "st.login()\n",
        "st.register()\n",
        "st.enroll()\n",
        "st.review()"
      ],
      "metadata": {
        "colab": {
          "base_uri": "https://localhost:8080/"
        },
        "id": "9rpjX-tmPgHm",
        "outputId": "7664c29c-fa0e-4972-8eac-ee99d468db1e"
      },
      "execution_count": null,
      "outputs": [
        {
          "output_type": "stream",
          "name": "stdout",
          "text": [
            "Login\n",
            "Registered\n",
            "Enrolled\n",
            "Reviewed\n"
          ]
        }
      ]
    },
    {
      "cell_type": "code",
      "source": [
        "class Phone:\n",
        "  def __init__(self, price, brand, camera):\n",
        "    print(\"Inside Phone class\")\n",
        "    self.price = price\n",
        "    self.__brand = brand\n",
        "    self.camera = camera\n",
        "\n",
        "  def buy(self):\n",
        "    print(\"Buying Phone\")\n",
        "\n",
        "class SmartPhone(Phone):\n",
        "  #def __init__(self):\n",
        "    #print(\"Inside SmartPhone class\")\n",
        "  def buy(self):\n",
        "    print(\"Buying SmartPhone\")\n",
        "\n",
        "s = SmartPhone(20000, 'Apple', 13)\n",
        "print(s.brand)"
      ],
      "metadata": {
        "colab": {
          "base_uri": "https://localhost:8080/",
          "height": 193
        },
        "id": "HmOT-gq5Nnaz",
        "outputId": "7de67ee3-9abe-43b2-8189-1cc2bef2dc53"
      },
      "execution_count": null,
      "outputs": [
        {
          "output_type": "stream",
          "name": "stdout",
          "text": [
            "Inside Phone class\n"
          ]
        },
        {
          "output_type": "error",
          "ename": "AttributeError",
          "evalue": "'SmartPhone' object has no attribute 'brand'",
          "traceback": [
            "\u001b[0;31m---------------------------------------------------------------------------\u001b[0m",
            "\u001b[0;31mAttributeError\u001b[0m                            Traceback (most recent call last)",
            "\u001b[0;32m<ipython-input-19-dc05ce1a37a4>\u001b[0m in \u001b[0;36m<cell line: 18>\u001b[0;34m()\u001b[0m\n\u001b[1;32m     16\u001b[0m \u001b[0;34m\u001b[0m\u001b[0m\n\u001b[1;32m     17\u001b[0m \u001b[0ms\u001b[0m \u001b[0;34m=\u001b[0m \u001b[0mSmartPhone\u001b[0m\u001b[0;34m(\u001b[0m\u001b[0;36m20000\u001b[0m\u001b[0;34m,\u001b[0m \u001b[0;34m'Apple'\u001b[0m\u001b[0;34m,\u001b[0m \u001b[0;36m13\u001b[0m\u001b[0;34m)\u001b[0m\u001b[0;34m\u001b[0m\u001b[0;34m\u001b[0m\u001b[0m\n\u001b[0;32m---> 18\u001b[0;31m \u001b[0mprint\u001b[0m\u001b[0;34m(\u001b[0m\u001b[0ms\u001b[0m\u001b[0;34m.\u001b[0m\u001b[0mbrand\u001b[0m\u001b[0;34m)\u001b[0m\u001b[0;34m\u001b[0m\u001b[0;34m\u001b[0m\u001b[0m\n\u001b[0m",
            "\u001b[0;31mAttributeError\u001b[0m: 'SmartPhone' object has no attribute 'brand'"
          ]
        }
      ]
    },
    {
      "cell_type": "code",
      "source": [
        "print(s.camera)\n",
        "s.buy()"
      ],
      "metadata": {
        "colab": {
          "base_uri": "https://localhost:8080/"
        },
        "id": "6AGiXeUFQxdh",
        "outputId": "29a82221-6bd9-434b-b62d-b73172f0d287"
      },
      "execution_count": null,
      "outputs": [
        {
          "output_type": "stream",
          "name": "stdout",
          "text": [
            "13\n",
            "Buying SmartPhone\n"
          ]
        }
      ]
    },
    {
      "cell_type": "code",
      "source": [
        "# method overriding if same name methods are there in both parent and child class then priority is given to the child class\n",
        "\n",
        "# method overriding is the concept of polymorphism"
      ],
      "metadata": {
        "id": "s-dMSBwBROy6"
      },
      "execution_count": null,
      "outputs": []
    },
    {
      "cell_type": "markdown",
      "source": [
        "#Method Overriding\n",
        "#Method Overloading\n",
        "#Operator Overloading"
      ],
      "metadata": {
        "id": "PD1yCDIvSJQC"
      }
    },
    {
      "cell_type": "markdown",
      "source": [
        "Using **super()** keyword we can invoke the parent's method and constructor\n",
        "\n",
        "**super()** doesn't work outside the class\n",
        "\n",
        "**super()** should be first statement inside constructor after it, it won't work"
      ],
      "metadata": {
        "id": "LYoDCOwCSLiW"
      }
    },
    {
      "cell_type": "code",
      "source": [
        "class Phone:\n",
        "  def __init__(self, price, brand, camera):\n",
        "    print(\"Inside Phone constructor\")\n",
        "    self.__price = price\n",
        "    self.brand = brand\n",
        "    self.camera = camera\n",
        "\n",
        "\n",
        "class SmartPhone(Phone):\n",
        "  def __init__(self, price, brand, camera, os, ram):\n",
        "    super().__init__(price, brand, camera)\n",
        "    self.os = os\n",
        "    self.ram = ram\n",
        "    print(\"Inside SmartPhone Constructor\")\n",
        "\n",
        "s = SmartPhone(20000, 'Apple', 12, 'Android', 2)\n",
        "print(s.os)\n",
        "print(s.brand)"
      ],
      "metadata": {
        "colab": {
          "base_uri": "https://localhost:8080/"
        },
        "id": "6Qrf3rsPSCqD",
        "outputId": "56a2b7a4-74e1-48d5-865a-76c821780d2c"
      },
      "execution_count": null,
      "outputs": [
        {
          "output_type": "stream",
          "name": "stdout",
          "text": [
            "Inside Phone constructor\n",
            "Inside SmartPhone Constructor\n",
            "Android\n",
            "Apple\n"
          ]
        }
      ]
    },
    {
      "cell_type": "code",
      "source": [],
      "metadata": {
        "id": "X3TJzpQeUKV0"
      },
      "execution_count": null,
      "outputs": []
    }
  ]
}