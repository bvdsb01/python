{
  "nbformat": 4,
  "nbformat_minor": 0,
  "metadata": {
    "colab": {
      "provenance": [],
      "authorship_tag": "ABX9TyNoogpJX80DIO5Qv060chrV",
      "include_colab_link": true
    },
    "kernelspec": {
      "name": "python3",
      "display_name": "Python 3"
    },
    "language_info": {
      "name": "python"
    }
  },
  "cells": [
    {
      "cell_type": "markdown",
      "metadata": {
        "id": "view-in-github",
        "colab_type": "text"
      },
      "source": [
        "<a href=\"https://colab.research.google.com/github/bvdsb01/python/blob/main/Built_in_Functions.ipynb\" target=\"_parent\"><img src=\"https://colab.research.google.com/assets/colab-badge.svg\" alt=\"Open In Colab\"/></a>"
      ]
    },
    {
      "cell_type": "markdown",
      "source": [
        "**Function** - Is a block of code whose purpose is agar kuch input do toh woh output deta hai."
      ],
      "metadata": {
        "id": "etcDsaZX0VnF"
      }
    },
    {
      "cell_type": "markdown",
      "source": [
        "Mostly used inbuilt functions\n",
        "*  print()\n",
        "*  input()\n",
        "*  type()\n",
        "*  int(), float(), str(), list(), tuple() #type conversion functions\n",
        "*  abs() #absolute function abs(-4) = 4\n",
        "*  pow(2,3) #2^3 = 8\n",
        "*  min()/max()\n",
        "*  round()\n",
        "*  **divmod()**\n",
        "*  bin()/oct()/hex()\n",
        "*  id()\n",
        "*  ord()\n",
        "*  len()\n",
        "*  sum()\n",
        "*  help()"
      ],
      "metadata": {
        "id": "SEDanR7502Ai"
      }
    },
    {
      "cell_type": "code",
      "source": [
        "min([2,3,1,0])"
      ],
      "metadata": {
        "colab": {
          "base_uri": "https://localhost:8080/"
        },
        "id": "aZMgndd70eWg",
        "outputId": "4c73aae8-7121-4386-8d5a-ea71eaf934f0"
      },
      "execution_count": null,
      "outputs": [
        {
          "output_type": "execute_result",
          "data": {
            "text/plain": [
              "0"
            ]
          },
          "metadata": {},
          "execution_count": 1
        }
      ]
    },
    {
      "cell_type": "code",
      "source": [
        "max(\"kolkata\") #works on the basis of ascii values"
      ],
      "metadata": {
        "colab": {
          "base_uri": "https://localhost:8080/",
          "height": 36
        },
        "id": "DmRQnHmq1e93",
        "outputId": "79d934f2-8952-46eb-cef3-5d34e9007fdf"
      },
      "execution_count": null,
      "outputs": [
        {
          "output_type": "execute_result",
          "data": {
            "text/plain": [
              "'t'"
            ],
            "application/vnd.google.colaboratory.intrinsic+json": {
              "type": "string"
            }
          },
          "metadata": {},
          "execution_count": 2
        }
      ]
    },
    {
      "cell_type": "code",
      "source": [
        "pow(2,-3)"
      ],
      "metadata": {
        "colab": {
          "base_uri": "https://localhost:8080/"
        },
        "id": "e1vbKWlm1hoC",
        "outputId": "1f9a8e9a-8fb4-4e90-cb03-09616b308f77"
      },
      "execution_count": null,
      "outputs": [
        {
          "output_type": "execute_result",
          "data": {
            "text/plain": [
              "0.125"
            ]
          },
          "metadata": {},
          "execution_count": 3
        }
      ]
    },
    {
      "cell_type": "code",
      "source": [
        "c = 22/7\n",
        "print(c)\n",
        "print(round(c)) #round-off to nearest integer\n",
        "print(round(c,2)) #upto 2 decimal places\n",
        "print(round(c,4)) #upto 4 decimal places"
      ],
      "metadata": {
        "id": "GOaANZKa1lb1",
        "colab": {
          "base_uri": "https://localhost:8080/"
        },
        "outputId": "39eb9fe9-cb52-459e-fbce-2e3c935280d4"
      },
      "execution_count": 6,
      "outputs": [
        {
          "output_type": "stream",
          "name": "stdout",
          "text": [
            "3.142857142857143\n",
            "3\n",
            "3.14\n",
            "3.1429\n"
          ]
        }
      ]
    },
    {
      "cell_type": "code",
      "source": [
        "divmod(5,2) #returns a tuple (x//y, x%y)"
      ],
      "metadata": {
        "colab": {
          "base_uri": "https://localhost:8080/"
        },
        "id": "UdiJarLY2HYs",
        "outputId": "5c8792a1-89ba-433c-a878-0e28b3549c44"
      },
      "execution_count": 7,
      "outputs": [
        {
          "output_type": "execute_result",
          "data": {
            "text/plain": [
              "(2, 1)"
            ]
          },
          "metadata": {},
          "execution_count": 7
        }
      ]
    },
    {
      "cell_type": "markdown",
      "source": [
        "**bin/oct/hex**"
      ],
      "metadata": {
        "id": "Uhdd3vmk2_2q"
      }
    },
    {
      "cell_type": "code",
      "source": [
        "print(bin(4)) #gives binary value\n",
        "print(oct(4)) #gives octal value\n",
        "print(hex(4)) #gives hexadecimal value"
      ],
      "metadata": {
        "colab": {
          "base_uri": "https://localhost:8080/"
        },
        "id": "awWhfY723CJ1",
        "outputId": "b36796b1-d5c5-4d99-b704-5cbb714b9cd3"
      },
      "execution_count": 10,
      "outputs": [
        {
          "output_type": "stream",
          "name": "stdout",
          "text": [
            "0b100\n",
            "0o4\n",
            "0x4\n"
          ]
        }
      ]
    },
    {
      "cell_type": "markdown",
      "source": [
        "**id** - memory mai variable ka address kya hai?"
      ],
      "metadata": {
        "id": "EGjReM1U3TaE"
      }
    },
    {
      "cell_type": "code",
      "source": [
        "b = 4\n",
        "print(id(b))"
      ],
      "metadata": {
        "colab": {
          "base_uri": "https://localhost:8080/"
        },
        "id": "Fsah0sOD3GGN",
        "outputId": "2b1464d0-bcae-4de4-fd26-4287b8d7fabe"
      },
      "execution_count": 11,
      "outputs": [
        {
          "output_type": "stream",
          "name": "stdout",
          "text": [
            "137340021342544\n"
          ]
        }
      ]
    },
    {
      "cell_type": "markdown",
      "source": [
        "**ord** - returns the Unicode code point for a one-character string.\n",
        "\n",
        "In short, character ka ascii value chahiye toh use this ord()"
      ],
      "metadata": {
        "id": "wqKIkioK3hpI"
      }
    },
    {
      "cell_type": "code",
      "source": [
        "print(ord('c'))\n",
        "print(ord('C'))"
      ],
      "metadata": {
        "colab": {
          "base_uri": "https://localhost:8080/"
        },
        "id": "lfN-rxTc3bFH",
        "outputId": "bd70b3f4-0c6f-441f-f391-eadbfe79b7e3"
      },
      "execution_count": 12,
      "outputs": [
        {
          "output_type": "stream",
          "name": "stdout",
          "text": [
            "99\n",
            "67\n"
          ]
        }
      ]
    },
    {
      "cell_type": "markdown",
      "source": [
        "**len** - gives length of an iterable"
      ],
      "metadata": {
        "id": "skN5QOko35gO"
      }
    },
    {
      "cell_type": "code",
      "source": [
        "len(\"kolkata\")"
      ],
      "metadata": {
        "colab": {
          "base_uri": "https://localhost:8080/"
        },
        "id": "KoGUtyrK3z2-",
        "outputId": "a9daf783-adf6-4257-965e-4835591408ba"
      },
      "execution_count": 13,
      "outputs": [
        {
          "output_type": "execute_result",
          "data": {
            "text/plain": [
              "7"
            ]
          },
          "metadata": {},
          "execution_count": 13
        }
      ]
    },
    {
      "cell_type": "markdown",
      "source": [
        "**sum** - returns sum of an iterable"
      ],
      "metadata": {
        "id": "iScSdx3q4GL0"
      }
    },
    {
      "cell_type": "code",
      "source": [
        "sum({1,2,3,4,5})"
      ],
      "metadata": {
        "colab": {
          "base_uri": "https://localhost:8080/"
        },
        "id": "JEulHO5n3_bx",
        "outputId": "fc37264d-20a6-4a3c-dfd1-44dc58fd682c"
      },
      "execution_count": 14,
      "outputs": [
        {
          "output_type": "execute_result",
          "data": {
            "text/plain": [
              "15"
            ]
          },
          "metadata": {},
          "execution_count": 14
        }
      ]
    },
    {
      "cell_type": "markdown",
      "source": [
        "**help** - to read documentation of a function"
      ],
      "metadata": {
        "id": "prK2X7Ra4Q7w"
      }
    },
    {
      "cell_type": "code",
      "source": [
        "help('print')"
      ],
      "metadata": {
        "colab": {
          "base_uri": "https://localhost:8080/"
        },
        "id": "1mAJ1uDE4Ky7",
        "outputId": "269895ac-1d0e-4350-f73f-f1cf3285ef8c"
      },
      "execution_count": 15,
      "outputs": [
        {
          "output_type": "stream",
          "name": "stdout",
          "text": [
            "Help on built-in function print in module builtins:\n",
            "\n",
            "print(...)\n",
            "    print(value, ..., sep=' ', end='\\n', file=sys.stdout, flush=False)\n",
            "    \n",
            "    Prints the values to a stream, or to sys.stdout by default.\n",
            "    Optional keyword arguments:\n",
            "    file:  a file-like object (stream); defaults to the current sys.stdout.\n",
            "    sep:   string inserted between values, default a space.\n",
            "    end:   string appended after the last value, default a newline.\n",
            "    flush: whether to forcibly flush the stream.\n",
            "\n"
          ]
        }
      ]
    },
    {
      "cell_type": "code",
      "source": [
        "help('help')"
      ],
      "metadata": {
        "colab": {
          "base_uri": "https://localhost:8080/"
        },
        "id": "3IjRI10J4Va1",
        "outputId": "1347bfea-ca29-4e61-d6a8-873148badc07"
      },
      "execution_count": 16,
      "outputs": [
        {
          "output_type": "stream",
          "name": "stdout",
          "text": [
            "Help on _Helper in module _sitebuiltins object:\n",
            "\n",
            "help = class _Helper(builtins.object)\n",
            " |  Define the builtin 'help'.\n",
            " |  \n",
            " |  This is a wrapper around pydoc.help that provides a helpful message\n",
            " |  when 'help' is typed at the Python interactive prompt.\n",
            " |  \n",
            " |  Calling help() at the Python prompt starts an interactive help session.\n",
            " |  Calling help(thing) prints help for the python object 'thing'.\n",
            " |  \n",
            " |  Methods defined here:\n",
            " |  \n",
            " |  __call__(self, *args, **kwds)\n",
            " |      Call self as a function.\n",
            " |  \n",
            " |  __repr__(self)\n",
            " |      Return repr(self).\n",
            " |  \n",
            " |  ----------------------------------------------------------------------\n",
            " |  Data descriptors defined here:\n",
            " |  \n",
            " |  __dict__\n",
            " |      dictionary for instance variables (if defined)\n",
            " |  \n",
            " |  __weakref__\n",
            " |      list of weak references to the object (if defined)\n",
            "\n"
          ]
        }
      ]
    },
    {
      "cell_type": "code",
      "source": [
        "help('sum')"
      ],
      "metadata": {
        "colab": {
          "base_uri": "https://localhost:8080/"
        },
        "id": "7JVO4hZm4cKI",
        "outputId": "3d88ea03-1d20-4609-ce65-09ed3ff7685b"
      },
      "execution_count": 17,
      "outputs": [
        {
          "output_type": "stream",
          "name": "stdout",
          "text": [
            "Help on built-in function sum in module builtins:\n",
            "\n",
            "sum(iterable, /, start=0)\n",
            "    Return the sum of a 'start' value (default: 0) plus an iterable of numbers\n",
            "    \n",
            "    When the iterable is empty, return the start value.\n",
            "    This function is intended specifically for use with numeric values and may\n",
            "    reject non-numeric types.\n",
            "\n"
          ]
        }
      ]
    }
  ]
}