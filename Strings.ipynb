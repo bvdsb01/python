{
  "nbformat": 4,
  "nbformat_minor": 0,
  "metadata": {
    "colab": {
      "provenance": [],
      "authorship_tag": "ABX9TyNBb0J01PHGHBQ2phrXdelE",
      "include_colab_link": true
    },
    "kernelspec": {
      "name": "python3",
      "display_name": "Python 3"
    },
    "language_info": {
      "name": "python"
    }
  },
  "cells": [
    {
      "cell_type": "markdown",
      "metadata": {
        "id": "view-in-github",
        "colab_type": "text"
      },
      "source": [
        "<a href=\"https://colab.research.google.com/github/bvdsb01/python/blob/main/Strings.ipynb\" target=\"_parent\"><img src=\"https://colab.research.google.com/assets/colab-badge.svg\" alt=\"Open In Colab\"/></a>"
      ]
    },
    {
      "cell_type": "markdown",
      "source": [
        "#**Strings**"
      ],
      "metadata": {
        "id": "Ze1IcV7svzJe"
      }
    },
    {
      "cell_type": "markdown",
      "source": [
        "C programming language ka kaam hai system software banana - aisa software jo hardware se baat karta hai naa ki user sae, that's why aaj tak C mai strings as a datatype exist nahi karte, character hai but string nahi hai.\n",
        "\n",
        "C is a **System Programming Language**"
      ],
      "metadata": {
        "id": "rLGPkGYOuWv_"
      }
    },
    {
      "cell_type": "markdown",
      "source": [
        "**String** is mostly found in **Application Programming Languages** like java, python, c++ - jin languages ki use karke applications banate hai like websites, mobile apps, software apps, desktop apps, games - inn programming languages mai string as a datatype hota hi hota hai bcz via application we interact with the user, and for interacting with users we require strings.\n"
      ],
      "metadata": {
        "id": "o5dD9toru4v4"
      }
    },
    {
      "cell_type": "markdown",
      "source": [
        "Python is an **Application Programming Language** - that's why it has native string support"
      ],
      "metadata": {
        "id": "sI6C3E4ZvnVy"
      }
    },
    {
      "cell_type": "markdown",
      "source": [
        "Strings are sequence of characters.\n",
        "\n",
        "\n",
        "In Python specifically, strings are a sequence of Unicode characters. (ASCII is only for english language 8bit for 256 characters we had numbers like 99, 96, but as more languages were incorporated 8bit ascii codes became redundant, then came, unicode characters (default 16 bit)"
      ],
      "metadata": {
        "id": "ktwQgnl7v-WW"
      }
    },
    {
      "cell_type": "markdown",
      "source": [
        "https://docs.python.org/3.3/howto/unicode.html"
      ],
      "metadata": {
        "id": "Uef-cSxtw4J7"
      }
    },
    {
      "cell_type": "code",
      "source": [
        "#Where double inverted commas are used\n",
        "c = \"It's raining outside\"\n",
        "print(c)"
      ],
      "metadata": {
        "colab": {
          "base_uri": "https://localhost:8080/"
        },
        "id": "xJoTbdy0vem8",
        "outputId": "7a3f908c-8d74-4ced-b6b8-7bf4640abcb2"
      },
      "execution_count": 1,
      "outputs": [
        {
          "output_type": "stream",
          "name": "stdout",
          "text": [
            "It's raining outside\n"
          ]
        }
      ]
    },
    {
      "cell_type": "code",
      "source": [
        "d = '\"He said!\"'\n",
        "print(d)"
      ],
      "metadata": {
        "colab": {
          "base_uri": "https://localhost:8080/"
        },
        "id": "QOp0SCB3xGOC",
        "outputId": "771d8282-42e0-4eae-a861-c3643d86898f"
      },
      "execution_count": 2,
      "outputs": [
        {
          "output_type": "stream",
          "name": "stdout",
          "text": [
            "\"He said!\"\n"
          ]
        }
      ]
    },
    {
      "cell_type": "code",
      "source": [
        "c = str(\"Hello\")\n",
        "print(c)"
      ],
      "metadata": {
        "colab": {
          "base_uri": "https://localhost:8080/"
        },
        "id": "a5cRuSNLxRUy",
        "outputId": "f5a91392-5855-4ae0-fc0f-199a65eb7b49"
      },
      "execution_count": 4,
      "outputs": [
        {
          "output_type": "stream",
          "name": "stdout",
          "text": [
            "Hello\n"
          ]
        }
      ]
    }
  ]
}