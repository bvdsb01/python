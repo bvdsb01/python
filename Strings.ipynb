{
  "nbformat": 4,
  "nbformat_minor": 0,
  "metadata": {
    "colab": {
      "provenance": [],
      "authorship_tag": "ABX9TyOyzomBzuoz9PDXeABVofLf",
      "include_colab_link": true
    },
    "kernelspec": {
      "name": "python3",
      "display_name": "Python 3"
    },
    "language_info": {
      "name": "python"
    }
  },
  "cells": [
    {
      "cell_type": "markdown",
      "metadata": {
        "id": "view-in-github",
        "colab_type": "text"
      },
      "source": [
        "<a href=\"https://colab.research.google.com/github/bvdsb01/python/blob/main/Strings.ipynb\" target=\"_parent\"><img src=\"https://colab.research.google.com/assets/colab-badge.svg\" alt=\"Open In Colab\"/></a>"
      ]
    },
    {
      "cell_type": "markdown",
      "source": [
        "#**Strings**"
      ],
      "metadata": {
        "id": "Ze1IcV7svzJe"
      }
    },
    {
      "cell_type": "markdown",
      "source": [
        "C programming language ka kaam hai system software banana - aisa software jo hardware se baat karta hai naa ki user sae, that's why aaj tak C mai strings as a datatype exist nahi karte, character hai but string nahi hai.\n",
        "\n",
        "C is a **System Programming Language**"
      ],
      "metadata": {
        "id": "rLGPkGYOuWv_"
      }
    },
    {
      "cell_type": "markdown",
      "source": [
        "**String** is mostly found in **Application Programming Languages** like java, python, c++ - jin languages ki use karke applications banate hai like websites, mobile apps, software apps, desktop apps, games - inn programming languages mai string as a datatype hota hi hota hai bcz via application we interact with the user, and for interacting with users we require strings.\n"
      ],
      "metadata": {
        "id": "o5dD9toru4v4"
      }
    },
    {
      "cell_type": "markdown",
      "source": [
        "Python is an **Application Programming Language** - that's why it has native string support"
      ],
      "metadata": {
        "id": "sI6C3E4ZvnVy"
      }
    },
    {
      "cell_type": "markdown",
      "source": [
        "Strings are sequence of characters.\n",
        "\n",
        "\n",
        "In Python specifically, strings are a sequence of Unicode characters. (ASCII is only for english language 8bit for 256 characters we had numbers like 99, 96, but as more languages were incorporated 8bit ascii codes became redundant, then came, unicode characters (default 16 bit)"
      ],
      "metadata": {
        "id": "ktwQgnl7v-WW"
      }
    },
    {
      "cell_type": "markdown",
      "source": [
        "https://docs.python.org/3.3/howto/unicode.html"
      ],
      "metadata": {
        "id": "Uef-cSxtw4J7"
      }
    },
    {
      "cell_type": "code",
      "source": [
        "#Where double inverted commas are used\n",
        "c = \"It's raining outside\"\n",
        "print(c)"
      ],
      "metadata": {
        "colab": {
          "base_uri": "https://localhost:8080/"
        },
        "id": "xJoTbdy0vem8",
        "outputId": "7a3f908c-8d74-4ced-b6b8-7bf4640abcb2"
      },
      "execution_count": null,
      "outputs": [
        {
          "output_type": "stream",
          "name": "stdout",
          "text": [
            "It's raining outside\n"
          ]
        }
      ]
    },
    {
      "cell_type": "code",
      "source": [
        "d = '\"He said!\"'\n",
        "print(d)"
      ],
      "metadata": {
        "colab": {
          "base_uri": "https://localhost:8080/"
        },
        "id": "QOp0SCB3xGOC",
        "outputId": "771d8282-42e0-4eae-a861-c3643d86898f"
      },
      "execution_count": null,
      "outputs": [
        {
          "output_type": "stream",
          "name": "stdout",
          "text": [
            "\"He said!\"\n"
          ]
        }
      ]
    },
    {
      "cell_type": "code",
      "source": [
        "c = str(\"Hello\")\n",
        "print(c)"
      ],
      "metadata": {
        "colab": {
          "base_uri": "https://localhost:8080/"
        },
        "id": "a5cRuSNLxRUy",
        "outputId": "f5a91392-5855-4ae0-fc0f-199a65eb7b49"
      },
      "execution_count": null,
      "outputs": [
        {
          "output_type": "stream",
          "name": "stdout",
          "text": [
            "Hello\n"
          ]
        }
      ]
    },
    {
      "cell_type": "markdown",
      "source": [
        "**Types of Indexing** -\n",
        "\n",
        "*  Positive Indexing - Left to Right s[1], s[4]\n",
        "*  Negative Indexing - Right to Left s[-1] = last element, s[-n] = first element, where n = len(String)"
      ],
      "metadata": {
        "id": "mVU59wXb7pPu"
      }
    },
    {
      "cell_type": "markdown",
      "source": [
        "Indexing gives one element at a time\n",
        "\n",
        "Slicing is used to extract multiple characters at a time.\n"
      ],
      "metadata": {
        "id": "sy3a0IUK7--d"
      }
    },
    {
      "cell_type": "code",
      "source": [
        "s = \"helloworld\"\n",
        "s[::-1] # reverses the string"
      ],
      "metadata": {
        "id": "MOw3mBqq7elj",
        "outputId": "855ed220-cd9a-470a-fc4f-f9407b901c6e",
        "colab": {
          "base_uri": "https://localhost:8080/",
          "height": 36
        }
      },
      "execution_count": 1,
      "outputs": [
        {
          "output_type": "execute_result",
          "data": {
            "text/plain": [
              "'dlrowolleh'"
            ],
            "application/vnd.google.colaboratory.intrinsic+json": {
              "type": "string"
            }
          },
          "metadata": {},
          "execution_count": 1
        }
      ]
    },
    {
      "cell_type": "markdown",
      "source": [
        "**Strings are immutable** - once created cannot be changed but can be completely reassigned"
      ],
      "metadata": {
        "id": "px-fUV8s8TQ3"
      }
    },
    {
      "cell_type": "code",
      "source": [
        "c = 'hell0'\n",
        "c = 'you'\n",
        "c"
      ],
      "metadata": {
        "id": "K7UnqIzB8M7h",
        "outputId": "13de3710-ea6f-4484-b054-f30c336c98f8",
        "colab": {
          "base_uri": "https://localhost:8080/",
          "height": 36
        }
      },
      "execution_count": 2,
      "outputs": [
        {
          "output_type": "execute_result",
          "data": {
            "text/plain": [
              "'you'"
            ],
            "application/vnd.google.colaboratory.intrinsic+json": {
              "type": "string"
            }
          },
          "metadata": {},
          "execution_count": 2
        }
      ]
    },
    {
      "cell_type": "markdown",
      "source": [
        "**Operations on string**\n",
        "*   Arithmetic Operators (concatenation '+' and multiplication)\n",
        "*   Relational Operators\n",
        "*   Logical Operators\n",
        "*   Loops\n",
        "*   Membership Operators"
      ],
      "metadata": {
        "id": "wYV2WF7d8kGm"
      }
    },
    {
      "cell_type": "code",
      "source": [
        "print(\"Mumbai\" > \"Pune\") #lexiograhical comparision, dictionary mai jo word pehle aayega woh chota\n",
        "print(\"Goa\" > \"Kolkata\")\n",
        "print(\"kol\" > \"Kol\") #small letters baad mai aate hai, capital letters pehle aate hai"
      ],
      "metadata": {
        "id": "dWjqXCFA8iJl",
        "outputId": "49af536f-68e3-42bd-cf6e-3cb86b2db659",
        "colab": {
          "base_uri": "https://localhost:8080/"
        }
      },
      "execution_count": 4,
      "outputs": [
        {
          "output_type": "stream",
          "name": "stdout",
          "text": [
            "False\n",
            "False\n",
            "True\n"
          ]
        }
      ]
    },
    {
      "cell_type": "markdown",
      "source": [
        "#**In python empty string \"\" is considered False**"
      ],
      "metadata": {
        "id": "kL6AcInT9P5i"
      }
    },
    {
      "cell_type": "code",
      "source": [
        "\"\" and \"Hello\""
      ],
      "metadata": {
        "id": "vUhmANfs83IX",
        "outputId": "03da8ef8-8dc6-4882-d5b4-7ec5914b5cb9",
        "colab": {
          "base_uri": "https://localhost:8080/",
          "height": 36
        }
      },
      "execution_count": 5,
      "outputs": [
        {
          "output_type": "execute_result",
          "data": {
            "text/plain": [
              "''"
            ],
            "application/vnd.google.colaboratory.intrinsic+json": {
              "type": "string"
            }
          },
          "metadata": {},
          "execution_count": 5
        }
      ]
    },
    {
      "cell_type": "code",
      "source": [
        "\"\" or 'Hello'"
      ],
      "metadata": {
        "id": "9gxM28Me9YOA",
        "outputId": "863423aa-d92e-41cc-c6ac-a8015b0bb19b",
        "colab": {
          "base_uri": "https://localhost:8080/",
          "height": 36
        }
      },
      "execution_count": 6,
      "outputs": [
        {
          "output_type": "execute_result",
          "data": {
            "text/plain": [
              "'Hello'"
            ],
            "application/vnd.google.colaboratory.intrinsic+json": {
              "type": "string"
            }
          },
          "metadata": {},
          "execution_count": 6
        }
      ]
    },
    {
      "cell_type": "code",
      "source": [
        "print(\"hello\" or \"world\")\n",
        "print(\"hello\" and \"world\")"
      ],
      "metadata": {
        "id": "qd_ZDgZP9aRA",
        "outputId": "f18a285a-948f-466a-812a-57a6857f49b9",
        "colab": {
          "base_uri": "https://localhost:8080/"
        }
      },
      "execution_count": 7,
      "outputs": [
        {
          "output_type": "stream",
          "name": "stdout",
          "text": [
            "hello\n",
            "world\n"
          ]
        }
      ]
    },
    {
      "cell_type": "markdown",
      "source": [
        "String common **functions** - (found on all iterables list, set, tuple, dictionary)\n",
        "\n",
        "* len\n",
        "* max\n",
        "* min\n",
        "* sorted"
      ],
      "metadata": {
        "id": "wmvelGh69iLB"
      }
    },
    {
      "cell_type": "code",
      "source": [
        "c = \"kolkata\"\n",
        "print(len(c))\n",
        "print(max(c))\n",
        "print(min(c))\n",
        "print(sorted(c))  # returns a list in ascending order on the basis of ascii value\n",
        "\n",
        "# to get list in descending order\n",
        "print(sorted(c, reverse = True))"
      ],
      "metadata": {
        "id": "9z2sKUS09e4b",
        "outputId": "0fc01360-7a9a-4014-ed3f-1049243ca954",
        "colab": {
          "base_uri": "https://localhost:8080/"
        }
      },
      "execution_count": 10,
      "outputs": [
        {
          "output_type": "stream",
          "name": "stdout",
          "text": [
            "7\n",
            "t\n",
            "a\n",
            "['a', 'a', 'k', 'k', 'l', 'o', 't']\n",
            "['t', 'o', 'l', 'k', 'k', 'a', 'a']\n"
          ]
        }
      ]
    },
    {
      "cell_type": "markdown",
      "source": [
        "#**Functions applicable only on strings not on other datatypes** -\n",
        "*  capitalize/title/upper/lower/swapcase\n",
        "*  count\n",
        "*  find/index\n",
        "*  endswith/startswith\n",
        "*  format - is like fill in the blanks\n",
        "*  isalnum/isalpha/isdecimal/isdigit/isidentifier\n",
        "*  split\n",
        "*  join\n",
        "*  replace\n",
        "*  strip - removes trailing and leading spaces"
      ],
      "metadata": {
        "id": "BHjdSsqS-JOD"
      }
    }
  ]
}