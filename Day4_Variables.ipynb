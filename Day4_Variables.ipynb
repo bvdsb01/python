{
  "nbformat": 4,
  "nbformat_minor": 0,
  "metadata": {
    "colab": {
      "provenance": [],
      "authorship_tag": "ABX9TyOwDmBs+yBV/Jq/jBDdv3HP",
      "include_colab_link": true
    },
    "kernelspec": {
      "name": "python3",
      "display_name": "Python 3"
    },
    "language_info": {
      "name": "python"
    }
  },
  "cells": [
    {
      "cell_type": "markdown",
      "metadata": {
        "id": "view-in-github",
        "colab_type": "text"
      },
      "source": [
        "<a href=\"https://colab.research.google.com/github/bvdsb01/python/blob/main/Day4_Variables.ipynb\" target=\"_parent\"><img src=\"https://colab.research.google.com/assets/colab-badge.svg\" alt=\"Open In Colab\"/></a>"
      ]
    },
    {
      "cell_type": "markdown",
      "source": [
        "#Day 4 - Variables - Dynamic Typing & Dynamic Binding"
      ],
      "metadata": {
        "id": "HXDozftEYo77"
      }
    },
    {
      "cell_type": "markdown",
      "source": [
        "Variables = Containers for future use.\n",
        "\n",
        "In python there is **no variable declaration** like int a"
      ],
      "metadata": {
        "id": "Fw3OQFjEZSeo"
      }
    },
    {
      "cell_type": "markdown",
      "source": [
        "**Static Typing** - had to specify the type of data --> C, C++, Java"
      ],
      "metadata": {
        "id": "3svO-8xoaSgO"
      }
    },
    {
      "cell_type": "markdown",
      "source": [
        "**Dynamic Typing** - no need to specify the type of data  --> Python, PHP"
      ],
      "metadata": {
        "id": "Gcc12jAbaYYv"
      }
    },
    {
      "cell_type": "code",
      "execution_count": 3,
      "metadata": {
        "id": "Rzks4euyXaU1",
        "colab": {
          "base_uri": "https://localhost:8080/"
        },
        "outputId": "0fa9c8b9-6fd9-49bf-c6f4-d7f2cc495a1d"
      },
      "outputs": [
        {
          "output_type": "stream",
          "name": "stdout",
          "text": [
            "Amazon\n"
          ]
        }
      ],
      "source": [
        "#Dynamic Typing - Python automatically understands the datatype of the variable\n",
        "\n",
        "name = 'Amazon'\n",
        "print(name)"
      ]
    },
    {
      "cell_type": "markdown",
      "source": [
        "**Dynamic Binding** - A Variable can store multiple types of datatype --> Python"
      ],
      "metadata": {
        "id": "I1qoqiTfbTA9"
      }
    },
    {
      "cell_type": "markdown",
      "source": [
        "**Static Binding** - Once a variable is binded to a datatype, in whole program its type cannot be changed --> C, C++, Java"
      ],
      "metadata": {
        "id": "nKan780tboON"
      }
    },
    {
      "cell_type": "code",
      "source": [
        "# we can change datatype of a variable at any time - variable is not bound to a particular type of data - Dynamic Binding\n",
        "\n",
        "name = \"Forest\"\n",
        "print(name) # string\n",
        "name = 4 #int\n",
        "print(name)\n",
        "name = True #boolean\n",
        "print(name)"
      ],
      "metadata": {
        "colab": {
          "base_uri": "https://localhost:8080/"
        },
        "id": "v3Bn_jvBZVBy",
        "outputId": "a94ada78-5629-4913-a338-333706a5757f"
      },
      "execution_count": 6,
      "outputs": [
        {
          "output_type": "stream",
          "name": "stdout",
          "text": [
            "Forest\n",
            "4\n",
            "True\n"
          ]
        }
      ]
    },
    {
      "cell_type": "code",
      "source": [
        "# special syntax\n",
        "a = 5; b = 3; c = 4\n",
        "print(a,b,c)\n",
        "\n",
        "a, b, c = 5, 6, 7\n",
        "print(a,b,c)\n",
        "\n",
        "print(a)\n",
        "print(b)\n",
        "print(c)\n",
        "\n",
        "a = b = c = 7\n",
        "print(a,b,c)"
      ],
      "metadata": {
        "colab": {
          "base_uri": "https://localhost:8080/"
        },
        "id": "SQkZrzCubERx",
        "outputId": "a74a3871-43f8-4ac3-f7b1-e378f6bebb73"
      },
      "execution_count": 15,
      "outputs": [
        {
          "output_type": "stream",
          "name": "stdout",
          "text": [
            "5 3 4\n",
            "5 6 7\n",
            "5\n",
            "6\n",
            "7\n",
            "7 7 7\n"
          ]
        }
      ]
    }
  ]
}