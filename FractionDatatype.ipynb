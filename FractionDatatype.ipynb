{
  "nbformat": 4,
  "nbformat_minor": 0,
  "metadata": {
    "colab": {
      "provenance": [],
      "authorship_tag": "ABX9TyMBi92QOSu0I6sulKs31V6k",
      "include_colab_link": true
    },
    "kernelspec": {
      "name": "python3",
      "display_name": "Python 3"
    },
    "language_info": {
      "name": "python"
    }
  },
  "cells": [
    {
      "cell_type": "markdown",
      "metadata": {
        "id": "view-in-github",
        "colab_type": "text"
      },
      "source": [
        "<a href=\"https://colab.research.google.com/github/bvdsb01/python/blob/main/FractionDatatype.ipynb\" target=\"_parent\"><img src=\"https://colab.research.google.com/assets/colab-badge.svg\" alt=\"Open In Colab\"/></a>"
      ]
    },
    {
      "cell_type": "markdown",
      "source": [
        "#Link for Dunder Methods - https://www.tutorialsteacher.com/python/magic-methods-in-python"
      ],
      "metadata": {
        "id": "_y7uLchaPwRl"
      }
    },
    {
      "cell_type": "code",
      "execution_count": null,
      "metadata": {
        "id": "Qgl2eklLLEMd"
      },
      "outputs": [],
      "source": [
        "class Fraction:\n",
        "    def __init__(self, n, d):\n",
        "      self.num = n\n",
        "      self.den = d\n",
        "\n",
        "    def __str__(self):\n",
        "      return \"{}/{}\".format(self.num, self.den)\n",
        "\n",
        "    def __add__(self, other):\n",
        "      temp_num = self.num*other.den + other.num*self.den\n",
        "      temp_den = self.den*other.den\n",
        "      return \"{}/{}\".format(temp_num, temp_den)\n",
        "\n",
        "    def __sub__(self, other):\n",
        "      temp_num = self.num*other.den - other.num*self.den\n",
        "      temp_den = self.den*other.den\n",
        "      return \"{}/{}\".format(temp_num, temp_den)\n",
        "\n",
        "    def __mul__(self, other):\n",
        "      temp_num = self.num*other.num\n",
        "      temp_den = self.den*other.den\n",
        "      return \"{}/{}\".format(temp_num, temp_den)\n",
        "\n",
        "    def __truediv__(self, other):\n",
        "      temp_num = self.num*other.den\n",
        "      temp_den = self.den*other.num\n",
        "      return \"{}/{}\".format(temp_num, temp_den)"
      ]
    },
    {
      "cell_type": "code",
      "source": [
        "x = Fraction(4,5)\n",
        "y = Fraction(3,4)\n",
        "print(x)\n",
        "print(x + y)\n",
        "print(x - y)\n",
        "print(x * y)\n",
        "print(x / y)"
      ],
      "metadata": {
        "colab": {
          "base_uri": "https://localhost:8080/"
        },
        "id": "JKdAHVulLFiM",
        "outputId": "1f50aa8d-8b60-4b27-a08b-2aff44e4757f"
      },
      "execution_count": null,
      "outputs": [
        {
          "output_type": "stream",
          "name": "stdout",
          "text": [
            "4/5\n",
            "31/20\n",
            "1/20\n",
            "12/20\n",
            "16/15\n"
          ]
        }
      ]
    }
  ]
}