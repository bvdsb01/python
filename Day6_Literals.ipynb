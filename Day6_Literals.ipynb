{
  "nbformat": 4,
  "nbformat_minor": 0,
  "metadata": {
    "colab": {
      "provenance": [],
      "authorship_tag": "ABX9TyNmhFHFLhM4LIqYWvUELlH1",
      "include_colab_link": true
    },
    "kernelspec": {
      "name": "python3",
      "display_name": "Python 3"
    },
    "language_info": {
      "name": "python"
    }
  },
  "cells": [
    {
      "cell_type": "markdown",
      "metadata": {
        "id": "view-in-github",
        "colab_type": "text"
      },
      "source": [
        "<a href=\"https://colab.research.google.com/github/bvdsb01/python/blob/main/Day6_Literals.ipynb\" target=\"_parent\"><img src=\"https://colab.research.google.com/assets/colab-badge.svg\" alt=\"Open In Colab\"/></a>"
      ]
    },
    {
      "cell_type": "markdown",
      "source": [
        "#Literals\n",
        "\n",
        "Literal is a raw data given in a variable. In python, there are various types of literals they are as follows -\n",
        "\n",
        "*   Numeric Literals\n",
        "*   String Literals\n",
        "*   Boolean Literals\n",
        "*   Special Literals\n",
        "\n"
      ],
      "metadata": {
        "id": "rJ41pHUkNo59"
      }
    },
    {
      "cell_type": "markdown",
      "source": [
        "#1. Numeric Literals\n",
        "\n",
        "In python 3 numeric datatypes\n",
        "\n",
        "*  Integer\n",
        "*  Float\n",
        "*  Complex"
      ],
      "metadata": {
        "id": "if4LiM9hOBEo"
      }
    },
    {
      "cell_type": "markdown",
      "source": [
        "Raspberry pi is an electronic board, where bits are controlled by 1 and 0 pattern"
      ],
      "metadata": {
        "id": "E8Q_3vWDOoFe"
      }
    },
    {
      "cell_type": "code",
      "source": [
        "a = 0b1010 # Binary literal\n",
        "b = 100 # Decimal literal\n",
        "c = 0o310 # Octal literal\n",
        "d = 0x12c # Hexadecimal literal\n",
        "\n",
        "# float literal\n",
        "float_1 = 10.5\n",
        "float_2 = 1.5e2 # if number is quite huge we use scientific notation\n",
        "float_3 = 1.5e-3 # for storing very small numbers\n",
        "\n",
        "# complex literal\n",
        "x = 3.14j\n",
        "\n",
        "print(a, b, c, d)\n",
        "print(float_1, float_2, float_3)\n",
        "print(x, x.imag, x.real) # extracting imaginary and real part"
      ],
      "metadata": {
        "colab": {
          "base_uri": "https://localhost:8080/"
        },
        "id": "lcAhoytDN_NN",
        "outputId": "d3e8b28b-5d97-466a-e780-36276873daa8"
      },
      "execution_count": 4,
      "outputs": [
        {
          "output_type": "stream",
          "name": "stdout",
          "text": [
            "10 100 200 300\n",
            "10.5 150.0 0.0015\n",
            "3.14j 3.14 0.0\n"
          ]
        }
      ]
    },
    {
      "cell_type": "markdown",
      "source": [
        "#2. String Literals"
      ],
      "metadata": {
        "id": "mssAsst8QM1Z"
      }
    },
    {
      "cell_type": "code",
      "source": [
        "string = \"This is python\"\n",
        "strings = 'This is python'\n",
        "multiline_str = \"\"\"This is a multiline string with more than one line of code.\"\"\"\n",
        "unicode = u\"\\U0001f600\\U0001F606\\U0001F923\"\n",
        "raw_str = r\"raw \\n \\e string\"\n",
        "\n",
        "print(string)\n",
        "print(strings)\n",
        "print(multiline_str)\n",
        "print(unicode)\n",
        "print(raw_str)"
      ],
      "metadata": {
        "colab": {
          "base_uri": "https://localhost:8080/"
        },
        "id": "EtsXzms0PTfg",
        "outputId": "c7257161-717f-436d-9454-1ccf4f6546c6"
      },
      "execution_count": 6,
      "outputs": [
        {
          "output_type": "stream",
          "name": "stdout",
          "text": [
            "This is python\n",
            "This is python\n",
            "This is a multiline string with more than one line of code.\n",
            "😀😆🤣\n",
            "raw \\n \\e string\n"
          ]
        }
      ]
    },
    {
      "cell_type": "markdown",
      "source": [
        "#3. Boolean Literals"
      ],
      "metadata": {
        "id": "ZJcBRCIvROK-"
      }
    },
    {
      "cell_type": "code",
      "source": [
        "a = True + 4\n",
        "b = False + 10\n",
        "c = False - 3\n",
        "print(\"a: \", a)\n",
        "print(\"b: \", b)\n",
        "print(\"c: \", c)"
      ],
      "metadata": {
        "colab": {
          "base_uri": "https://localhost:8080/"
        },
        "id": "E7G2BhbdRG0K",
        "outputId": "32275199-2ab1-49c5-d98d-0727210761ef"
      },
      "execution_count": 8,
      "outputs": [
        {
          "output_type": "stream",
          "name": "stdout",
          "text": [
            "a:  5\n",
            "b:  10\n",
            "c:  -3\n"
          ]
        }
      ]
    },
    {
      "cell_type": "markdown",
      "source": [
        "#4. Special Literals\n",
        "\n",
        "Python has a special literal called **None**\n",
        "\n",
        "**None** is absence of anything\n",
        "\n",
        "**None is a safest way of variable declaration**"
      ],
      "metadata": {
        "id": "l1OZx2OGRh3u"
      }
    },
    {
      "cell_type": "code",
      "source": [
        "a = None\n",
        "print(a)"
      ],
      "metadata": {
        "colab": {
          "base_uri": "https://localhost:8080/"
        },
        "id": "9d2hjfkpRZ_B",
        "outputId": "5dbf34d0-a74f-4fad-e1ff-2a0dc9f39f61"
      },
      "execution_count": 9,
      "outputs": [
        {
          "output_type": "stream",
          "name": "stdout",
          "text": [
            "None\n"
          ]
        }
      ]
    },
    {
      "cell_type": "code",
      "source": [
        "# None is a safest way of variable declaration\n",
        "# Variable declaration\n",
        "\n",
        "k = None"
      ],
      "metadata": {
        "id": "sIUZ0QcERmjP"
      },
      "execution_count": 13,
      "outputs": []
    }
  ]
}