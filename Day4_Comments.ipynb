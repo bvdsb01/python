{
  "nbformat": 4,
  "nbformat_minor": 0,
  "metadata": {
    "colab": {
      "provenance": [],
      "authorship_tag": "ABX9TyNLJRF3Dmg6JP0n512SE55I",
      "include_colab_link": true
    },
    "kernelspec": {
      "name": "python3",
      "display_name": "Python 3"
    },
    "language_info": {
      "name": "python"
    }
  },
  "cells": [
    {
      "cell_type": "markdown",
      "metadata": {
        "id": "view-in-github",
        "colab_type": "text"
      },
      "source": [
        "<a href=\"https://colab.research.google.com/github/bvdsb01/python/blob/main/Day4_Comments.ipynb\" target=\"_parent\"><img src=\"https://colab.research.google.com/assets/colab-badge.svg\" alt=\"Open In Colab\"/></a>"
      ]
    },
    {
      "cell_type": "markdown",
      "source": [
        "#Day 4 - Comments"
      ],
      "metadata": {
        "id": "HXDozftEYo77"
      }
    },
    {
      "cell_type": "code",
      "execution_count": 1,
      "metadata": {
        "id": "Rzks4euyXaU1"
      },
      "outputs": [],
      "source": [
        "# comments - piece of code not executable by compiler or interpretor\n",
        "\n",
        "# To enhance code readability and documentation purpose\n",
        "\n",
        "# Cannot write multiline comment in python, though there are some IDEs who provide this feature but inherently this feature is not available in python\n",
        "\n",
        "# So every time has to use hash \"#\""
      ]
    }
  ]
}