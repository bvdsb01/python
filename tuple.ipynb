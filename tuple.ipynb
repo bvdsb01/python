{
  "nbformat": 4,
  "nbformat_minor": 0,
  "metadata": {
    "colab": {
      "provenance": [],
      "authorship_tag": "ABX9TyO11wrAAjgDvSa79p2s/C11",
      "include_colab_link": true
    },
    "kernelspec": {
      "name": "python3",
      "display_name": "Python 3"
    },
    "language_info": {
      "name": "python"
    }
  },
  "cells": [
    {
      "cell_type": "markdown",
      "metadata": {
        "id": "view-in-github",
        "colab_type": "text"
      },
      "source": [
        "<a href=\"https://colab.research.google.com/github/bvdsb01/python/blob/main/tuple.ipynb\" target=\"_parent\"><img src=\"https://colab.research.google.com/assets/colab-badge.svg\" alt=\"Open In Colab\"/></a>"
      ]
    },
    {
      "cell_type": "markdown",
      "source": [
        "#**Tuple** - immutable"
      ],
      "metadata": {
        "id": "2jEhFKGo66FG"
      }
    },
    {
      "cell_type": "markdown",
      "source": [
        "#**Tuples are read only datatypes**\n",
        "\n",
        "#**Helps where data integrity is important.**"
      ],
      "metadata": {
        "id": "0B18LTYY9mqg"
      }
    },
    {
      "cell_type": "code",
      "execution_count": 24,
      "metadata": {
        "colab": {
          "base_uri": "https://localhost:8080/"
        },
        "id": "5O2h9PnF65Cc",
        "outputId": "116fe48d-b38e-4552-c72c-0b8452ce6c68"
      },
      "outputs": [
        {
          "output_type": "stream",
          "name": "stdout",
          "text": [
            "<class 'tuple'>\n",
            "()\n",
            "(1, 2, 3, 5, 6, 7, 4)\n",
            "(1, 2.5, 'Hello', 4j)\n",
            "(1, 2, (4, 5))\n"
          ]
        }
      ],
      "source": [
        "t = () # empty tuple\n",
        "print(type(t))\n",
        "print(t)\n",
        "t1 = (1,2,3,5,6,7,4) # homogeneous tuple\n",
        "print(t1)\n",
        "t2 = (1,2.5,\"Hello\", 4j) # heterogeneous tuple\n",
        "print(t2)\n",
        "t3 = (1,2,(4,5)) # 2D tuple\n",
        "print(t3)"
      ]
    },
    {
      "cell_type": "markdown",
      "source": [
        "#Tuple with one element is not a tuple"
      ],
      "metadata": {
        "id": "4ZGegdZ57X9F"
      }
    },
    {
      "cell_type": "code",
      "source": [
        "t4 = (1)\n",
        "print(t4)\n",
        "print(type(t4))\n",
        "\n",
        "t5 = (\"Hello\")\n",
        "print(type(t5))"
      ],
      "metadata": {
        "colab": {
          "base_uri": "https://localhost:8080/"
        },
        "id": "X8ONtSkw67rj",
        "outputId": "e23bcb75-86e0-4118-ed10-7f774f664494"
      },
      "execution_count": 7,
      "outputs": [
        {
          "output_type": "stream",
          "name": "stdout",
          "text": [
            "1\n",
            "<class 'int'>\n",
            "<class 'str'>\n"
          ]
        }
      ]
    },
    {
      "cell_type": "markdown",
      "source": [
        "#How to make a single element tuple - use comma at end"
      ],
      "metadata": {
        "id": "MvolFZm77qH_"
      }
    },
    {
      "cell_type": "code",
      "source": [
        "t6 = (1,)\n",
        "print(t6)\n",
        "print(type(t6))\n",
        "\n",
        "t7 = (\"hello\",)\n",
        "print(t7)\n",
        "print(type(t7))"
      ],
      "metadata": {
        "colab": {
          "base_uri": "https://localhost:8080/"
        },
        "id": "4Q3yza-E7eSo",
        "outputId": "86667a2b-3944-4df7-a0a1-bc93d7172f42"
      },
      "execution_count": 9,
      "outputs": [
        {
          "output_type": "stream",
          "name": "stdout",
          "text": [
            "(1,)\n",
            "<class 'tuple'>\n",
            "('hello',)\n",
            "<class 'tuple'>\n"
          ]
        }
      ]
    },
    {
      "cell_type": "code",
      "source": [
        "t8 = tuple(\"goa\") #tuple from a string\n",
        "print(t8)\n",
        "t9 = tuple(\"hello world\")\n",
        "print(t9)"
      ],
      "metadata": {
        "colab": {
          "base_uri": "https://localhost:8080/"
        },
        "id": "jRPeBJ7R7xjb",
        "outputId": "9b9ca936-38c8-44a0-fabe-3c5658bb2434"
      },
      "execution_count": 13,
      "outputs": [
        {
          "output_type": "stream",
          "name": "stdout",
          "text": [
            "('g', 'o', 'a')\n",
            "('h', 'e', 'l', 'l', 'o', ' ', 'w', 'o', 'r', 'l', 'd')\n"
          ]
        }
      ]
    },
    {
      "cell_type": "code",
      "source": [
        "t10 = tuple([1,2,3,4]) #tuple from a list\n",
        "t10"
      ],
      "metadata": {
        "colab": {
          "base_uri": "https://localhost:8080/"
        },
        "id": "uLQOH9cy8AW6",
        "outputId": "dadc2072-e2d4-4106-9cc7-e411416a98a5"
      },
      "execution_count": 14,
      "outputs": [
        {
          "output_type": "execute_result",
          "data": {
            "text/plain": [
              "(1, 2, 3, 4)"
            ]
          },
          "metadata": {},
          "execution_count": 14
        }
      ]
    },
    {
      "cell_type": "markdown",
      "source": [
        "#Accessing items in tuple works same as list and string t[0], t[-1]"
      ],
      "metadata": {
        "id": "RzrCPb368UQg"
      }
    },
    {
      "cell_type": "markdown",
      "source": [
        "#Difference is in editing - once tuple is created cannot be modified - no addition no deletion"
      ],
      "metadata": {
        "id": "pb5oNMri8ctC"
      }
    },
    {
      "cell_type": "code",
      "source": [
        "del t1"
      ],
      "metadata": {
        "id": "8zcs9Sbt8EAA"
      },
      "execution_count": null,
      "outputs": []
    },
    {
      "cell_type": "code",
      "source": [
        "del t2[0] # not possible because tuples are immutable"
      ],
      "metadata": {
        "colab": {
          "base_uri": "https://localhost:8080/",
          "height": 141
        },
        "id": "_RTFTfAE8KE0",
        "outputId": "09b72758-c41f-4447-9ea7-ea5d2bdaf7f9"
      },
      "execution_count": 17,
      "outputs": [
        {
          "output_type": "error",
          "ename": "TypeError",
          "evalue": "'tuple' object doesn't support item deletion",
          "traceback": [
            "\u001b[0;31m---------------------------------------------------------------------------\u001b[0m",
            "\u001b[0;31mTypeError\u001b[0m                                 Traceback (most recent call last)",
            "\u001b[0;32m<ipython-input-17-44fdbce93b46>\u001b[0m in \u001b[0;36m<cell line: 1>\u001b[0;34m()\u001b[0m\n\u001b[0;32m----> 1\u001b[0;31m \u001b[0;32mdel\u001b[0m \u001b[0mt2\u001b[0m\u001b[0;34m[\u001b[0m\u001b[0;36m0\u001b[0m\u001b[0;34m]\u001b[0m\u001b[0;34m\u001b[0m\u001b[0;34m\u001b[0m\u001b[0m\n\u001b[0m",
            "\u001b[0;31mTypeError\u001b[0m: 'tuple' object doesn't support item deletion"
          ]
        }
      ]
    },
    {
      "cell_type": "markdown",
      "source": [
        "#Concatenation, multiplication, looping and membership operators work like in list"
      ],
      "metadata": {
        "id": "32HglTQO8ubZ"
      }
    },
    {
      "cell_type": "markdown",
      "source": [
        "Tuple has sorted() but not sort()"
      ],
      "metadata": {
        "id": "N6zpL1pu9CzE"
      }
    },
    {
      "cell_type": "code",
      "source": [
        "print(sorted(t1)) # converts to list\n",
        "print(min(t1))\n",
        "print(max(t1))\n",
        "print(len(t1))\n",
        "print(t1)"
      ],
      "metadata": {
        "colab": {
          "base_uri": "https://localhost:8080/"
        },
        "id": "I7kQ2oIG8nuZ",
        "outputId": "0d0f0be3-849b-46e6-d97d-cb6eab0e732a"
      },
      "execution_count": 25,
      "outputs": [
        {
          "output_type": "stream",
          "name": "stdout",
          "text": [
            "[1, 2, 3, 4, 5, 6, 7]\n",
            "1\n",
            "7\n",
            "7\n",
            "(1, 2, 3, 5, 6, 7, 4)\n"
          ]
        }
      ]
    }
  ]
}