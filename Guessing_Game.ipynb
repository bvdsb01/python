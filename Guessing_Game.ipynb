{
  "nbformat": 4,
  "nbformat_minor": 0,
  "metadata": {
    "colab": {
      "provenance": [],
      "authorship_tag": "ABX9TyNRWrSGcXt4chOww6Z2bCBy",
      "include_colab_link": true
    },
    "kernelspec": {
      "name": "python3",
      "display_name": "Python 3"
    },
    "language_info": {
      "name": "python"
    }
  },
  "cells": [
    {
      "cell_type": "markdown",
      "metadata": {
        "id": "view-in-github",
        "colab_type": "text"
      },
      "source": [
        "<a href=\"https://colab.research.google.com/github/bvdsb01/python/blob/main/Guessing_Game.ipynb\" target=\"_parent\"><img src=\"https://colab.research.google.com/assets/colab-badge.svg\" alt=\"Open In Colab\"/></a>"
      ]
    },
    {
      "cell_type": "code",
      "execution_count": 1,
      "metadata": {
        "id": "5nYzSVH1gRKa"
      },
      "outputs": [],
      "source": [
        "import random"
      ]
    },
    {
      "cell_type": "code",
      "source": [
        "jackpot = random.randint(1, 100)\n",
        "\n",
        "guess = int(input(\"Guess the number\"))\n",
        "count = 1\n",
        "\n",
        "while guess != jackpot:\n",
        "  if guess < jackpot:\n",
        "    print(\"Guess Higher!\")\n",
        "  else:\n",
        "    print(\"Guess Lower!\")\n",
        "\n",
        "  guess = int(input(\"Guess Again!\"))\n",
        "  count += 1\n",
        "\n",
        "\n",
        "print(\"You guessed correctly\")\n",
        "print(\"You took\", count, \"attempts\")"
      ],
      "metadata": {
        "colab": {
          "base_uri": "https://localhost:8080/"
        },
        "id": "cxVVRi0Ao32q",
        "outputId": "fa95f98f-3867-4fdf-b747-43d75e046ff0"
      },
      "execution_count": 9,
      "outputs": [
        {
          "output_type": "stream",
          "name": "stdout",
          "text": [
            "Guess the number50\n",
            "Guess Lower!\n",
            "Guess Again!40\n",
            "Guess Lower!\n",
            "Guess Again!30\n",
            "Guess Lower!\n",
            "Guess Again!20\n",
            "Guess Lower!\n",
            "Guess Again!15\n",
            "Guess Higher!\n",
            "Guess Again!18\n",
            "Guess Lower!\n",
            "Guess Again!17\n",
            "You guessed correctly\n",
            "You took 7 attempts\n"
          ]
        }
      ]
    }
  ]
}