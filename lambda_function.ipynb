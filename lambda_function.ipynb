{
  "nbformat": 4,
  "nbformat_minor": 0,
  "metadata": {
    "colab": {
      "provenance": [],
      "authorship_tag": "ABX9TyNjGOSTjnmJYun69YwzZN3Y",
      "include_colab_link": true
    },
    "kernelspec": {
      "name": "python3",
      "display_name": "Python 3"
    },
    "language_info": {
      "name": "python"
    }
  },
  "cells": [
    {
      "cell_type": "markdown",
      "metadata": {
        "id": "view-in-github",
        "colab_type": "text"
      },
      "source": [
        "<a href=\"https://colab.research.google.com/github/bvdsb01/python/blob/main/lambda_function.ipynb\" target=\"_parent\"><img src=\"https://colab.research.google.com/assets/colab-badge.svg\" alt=\"Open In Colab\"/></a>"
      ]
    },
    {
      "cell_type": "markdown",
      "source": [
        "#**Lambda Function**\n",
        "\n",
        "* One line functions, can't be multiline\n",
        "* Don't have a name\n",
        "* Lambda has no return value, it returns the whole function\n",
        "* type of x,a,b is function\n",
        "* **Not used for code reusability**"
      ],
      "metadata": {
        "id": "sVl-OJo69Bm_"
      }
    },
    {
      "cell_type": "code",
      "execution_count": 1,
      "metadata": {
        "colab": {
          "base_uri": "https://localhost:8080/"
        },
        "id": "aanZX6778vHr",
        "outputId": "7d630cd3-05a9-4192-cb8f-6287cc61a955"
      },
      "outputs": [
        {
          "output_type": "stream",
          "name": "stdout",
          "text": [
            "16\n"
          ]
        }
      ],
      "source": [
        "x = lambda x:x**2\n",
        "print(x(4))"
      ]
    },
    {
      "cell_type": "code",
      "source": [
        "a = lambda x,y,z: x+y+z\n",
        "print(a(2,3,4))"
      ],
      "metadata": {
        "colab": {
          "base_uri": "https://localhost:8080/"
        },
        "id": "xk0pzOWn86lY",
        "outputId": "22733d90-5ae8-44d4-83dc-3f2fef3dda99"
      },
      "execution_count": 9,
      "outputs": [
        {
          "output_type": "stream",
          "name": "stdout",
          "text": [
            "9\n"
          ]
        }
      ]
    },
    {
      "cell_type": "code",
      "source": [
        "b = lambda b: \"Even\" if b%2 == 0 else \"Odd\"\n",
        "print(b(4))\n",
        "print(b(5))"
      ],
      "metadata": {
        "colab": {
          "base_uri": "https://localhost:8080/"
        },
        "id": "M_p12_tt9BH-",
        "outputId": "92edc601-b26a-4eae-83a9-71305468ebdb"
      },
      "execution_count": 8,
      "outputs": [
        {
          "output_type": "stream",
          "name": "stdout",
          "text": [
            "Even\n",
            "Odd\n"
          ]
        }
      ]
    },
    {
      "cell_type": "code",
      "source": [
        "c = lambda x:x[0] == \"a\"\n",
        "c(\"apple\")"
      ],
      "metadata": {
        "colab": {
          "base_uri": "https://localhost:8080/"
        },
        "id": "7s9PCapG9C3u",
        "outputId": "13b975c4-da80-4b66-eeae-786df210f13e"
      },
      "execution_count": 10,
      "outputs": [
        {
          "output_type": "execute_result",
          "data": {
            "text/plain": [
              "True"
            ]
          },
          "metadata": {},
          "execution_count": 10
        }
      ]
    },
    {
      "cell_type": "markdown",
      "source": [
        "#**Higher Order Function**"
      ],
      "metadata": {
        "id": "hZhY7M_Y-XjG"
      }
    },
    {
      "cell_type": "code",
      "source": [
        "# Output1 - even no.s sum\n",
        "# Output2 - odd no.s sum\n",
        "# Output3 - sum of no.s divisible by 3\n",
        "\n",
        "def return_sum(l):\n",
        "\n",
        "  even_sum = 0\n",
        "  odd_sum = 0\n",
        "  div3_sum = 0\n",
        "\n",
        "  for i in l:\n",
        "    if i%2 == 0:\n",
        "      even_sum += i\n",
        "    if i%2 != 0:\n",
        "      odd_sum += i\n",
        "    if i%3 == 0 :\n",
        "      div3_sum += i\n",
        "\n",
        "  return (even_sum, odd_sum, div3_sum)\n",
        "\n",
        "l = [11,14,21,23,56,78,45,29,28]\n",
        "return_sum(l)"
      ],
      "metadata": {
        "colab": {
          "base_uri": "https://localhost:8080/"
        },
        "id": "IGQYDQcJ-SJy",
        "outputId": "65d1f9c9-0b21-42f8-f95e-fc45028d1086"
      },
      "execution_count": 13,
      "outputs": [
        {
          "output_type": "execute_result",
          "data": {
            "text/plain": [
              "(176, 129, 144)"
            ]
          },
          "metadata": {},
          "execution_count": 13
        }
      ]
    },
    {
      "cell_type": "code",
      "source": [
        "#Converting above code to higher order function\n",
        "\n",
        "def return_sum(func, l):\n",
        "\n",
        "  result = 0\n",
        "\n",
        "  for i in l:\n",
        "    if func(i):\n",
        "      result += i\n",
        "\n",
        "  return result\n",
        "\n",
        "a = lambda x : x%2 == 0\n",
        "b = lambda x : x%2 != 0\n",
        "c = lambda x : x%3 == 0\n",
        "\n",
        "print(return_sum(a,l))\n",
        "print(return_sum(b,l))\n",
        "print(return_sum(c,l))"
      ],
      "metadata": {
        "colab": {
          "base_uri": "https://localhost:8080/"
        },
        "id": "znsbu59C_HmE",
        "outputId": "5b5c1b18-f337-41ab-a12b-1725ccdb767c"
      },
      "execution_count": 14,
      "outputs": [
        {
          "output_type": "stream",
          "name": "stdout",
          "text": [
            "176\n",
            "129\n",
            "144\n"
          ]
        }
      ]
    },
    {
      "cell_type": "markdown",
      "source": [
        "#Already existing Higher Order Functions (HOF) in python\n",
        "\n",
        "* Map\n",
        "* Filter\n",
        "* Reduce"
      ],
      "metadata": {
        "id": "YOYNZfLiBtHZ"
      }
    },
    {
      "cell_type": "code",
      "source": [
        "map(lambda x:x**2, l) #returns a map object"
      ],
      "metadata": {
        "colab": {
          "base_uri": "https://localhost:8080/"
        },
        "id": "8a9zHeK_B3qK",
        "outputId": "68b2b044-143f-4da8-d47f-4f5cb0533082"
      },
      "execution_count": 17,
      "outputs": [
        {
          "output_type": "execute_result",
          "data": {
            "text/plain": [
              "<map at 0x7f21f28fbdf0>"
            ]
          },
          "metadata": {},
          "execution_count": 17
        }
      ]
    },
    {
      "cell_type": "code",
      "source": [
        "list(map(lambda x:x**2, l)) #doubles the value of list"
      ],
      "metadata": {
        "colab": {
          "base_uri": "https://localhost:8080/"
        },
        "id": "oIyelQjm_7Gx",
        "outputId": "08c101b2-b3f5-4589-e3d1-6f14e7443b02"
      },
      "execution_count": 16,
      "outputs": [
        {
          "output_type": "execute_result",
          "data": {
            "text/plain": [
              "[121, 196, 441, 529, 3136, 6084, 2025, 841, 784]"
            ]
          },
          "metadata": {},
          "execution_count": 16
        }
      ]
    },
    {
      "cell_type": "code",
      "source": [
        "tup = (1,2,3,4,5,6,7)\n",
        "tuple(map(lambda a:a**2, tup))"
      ],
      "metadata": {
        "colab": {
          "base_uri": "https://localhost:8080/"
        },
        "id": "7FW8I4ezBnxu",
        "outputId": "8f938974-6049-4b47-8400-dc058ba67d0c"
      },
      "execution_count": 19,
      "outputs": [
        {
          "output_type": "execute_result",
          "data": {
            "text/plain": [
              "(1, 4, 9, 16, 25, 36, 49)"
            ]
          },
          "metadata": {},
          "execution_count": 19
        }
      ]
    },
    {
      "cell_type": "code",
      "source": [
        "list(map(lambda a:a**2, tup))"
      ],
      "metadata": {
        "colab": {
          "base_uri": "https://localhost:8080/"
        },
        "id": "GlMzH7g6CDnJ",
        "outputId": "72793689-eebc-4ee1-a593-909adcae118f"
      },
      "execution_count": 20,
      "outputs": [
        {
          "output_type": "execute_result",
          "data": {
            "text/plain": [
              "[1, 4, 9, 16, 25, 36, 49]"
            ]
          },
          "metadata": {},
          "execution_count": 20
        }
      ]
    },
    {
      "cell_type": "code",
      "source": [
        "set(map(lambda a:a**2, tup))"
      ],
      "metadata": {
        "colab": {
          "base_uri": "https://localhost:8080/"
        },
        "id": "5UkstGn-CHfA",
        "outputId": "654b1eef-e7d1-41f3-ef78-13a746102ad3"
      },
      "execution_count": 21,
      "outputs": [
        {
          "output_type": "execute_result",
          "data": {
            "text/plain": [
              "{1, 4, 9, 16, 25, 36, 49}"
            ]
          },
          "metadata": {},
          "execution_count": 21
        }
      ]
    },
    {
      "cell_type": "code",
      "source": [
        "a = list(map(lambda a : a%2==0, l)) #tells which elements are divisible by 2\n",
        "print(a)"
      ],
      "metadata": {
        "colab": {
          "base_uri": "https://localhost:8080/"
        },
        "id": "P4ja6U-mCTKB",
        "outputId": "2757d155-e56e-4790-ce3a-c6944c198524"
      },
      "execution_count": 23,
      "outputs": [
        {
          "output_type": "stream",
          "name": "stdout",
          "text": [
            "[False, True, False, False, True, True, False, False, True]\n"
          ]
        }
      ]
    },
    {
      "cell_type": "code",
      "source": [
        "students = [\n",
        "    {\n",
        "        \"name\": \"Jacob Martin\",\n",
        "        \"address\": \"123 Hill Street\"\n",
        "    },\n",
        "    {\n",
        "        \"name\": \"Agela Stevens\",\n",
        "        \"address\": \"3 upper street london\"\n",
        "    },\n",
        "    {\n",
        "        \"name\": \"Ricky Smart\",\n",
        "        \"address\": \"Unknown\"\n",
        "    }\n",
        "]"
      ],
      "metadata": {
        "id": "idozi9GHCYs-"
      },
      "execution_count": 24,
      "outputs": []
    },
    {
      "cell_type": "code",
      "source": [
        "list(map(lambda x : x['name'], students))"
      ],
      "metadata": {
        "colab": {
          "base_uri": "https://localhost:8080/"
        },
        "id": "U7j_wDwWDitn",
        "outputId": "5611f825-a035-4b64-b624-d21be16583fa"
      },
      "execution_count": 26,
      "outputs": [
        {
          "output_type": "execute_result",
          "data": {
            "text/plain": [
              "['Jacob Martin', 'Agela Stevens', 'Ricky Smart']"
            ]
          },
          "metadata": {},
          "execution_count": 26
        }
      ]
    },
    {
      "cell_type": "code",
      "source": [
        "z = [1,2,3,4,5,6,7,8,9,10]\n",
        "list(filter(lambda x : x > 4, z))"
      ],
      "metadata": {
        "colab": {
          "base_uri": "https://localhost:8080/"
        },
        "id": "OZN1L3rEDpyp",
        "outputId": "d29f9e6a-f106-4d37-99ea-3f45cefecc9f"
      },
      "execution_count": 35,
      "outputs": [
        {
          "output_type": "execute_result",
          "data": {
            "text/plain": [
              "[5, 6, 7, 8, 9, 10]"
            ]
          },
          "metadata": {},
          "execution_count": 35
        }
      ]
    },
    {
      "cell_type": "code",
      "source": [
        "fruits = ['apple', 'orange', 'guava', 'grapes']\n",
        "print(list(filter(lambda fruit : 'e' in fruit, fruits)))\n",
        "\n",
        "for i in fruits:\n",
        "  if 'e' in i:\n",
        "    print(i)"
      ],
      "metadata": {
        "colab": {
          "base_uri": "https://localhost:8080/"
        },
        "id": "vaUme3BpESNR",
        "outputId": "a8ab7b94-3c65-4668-b0fe-c3f84ed4baac"
      },
      "execution_count": 42,
      "outputs": [
        {
          "output_type": "stream",
          "name": "stdout",
          "text": [
            "['apple', 'orange', 'grapes']\n",
            "apple\n",
            "orange\n",
            "grapes\n"
          ]
        }
      ]
    },
    {
      "cell_type": "code",
      "source": [
        "import functools\n",
        "\n",
        "l1 = [11, 12, 56, 58, 32]\n",
        "print(functools.reduce(lambda x,y: x if x > y else y, l1))\n",
        "print(functools.reduce(lambda x,y: x if x < y else y, l1))\n",
        "print(functools.reduce(lambda x,y: x + y, l1))"
      ],
      "metadata": {
        "colab": {
          "base_uri": "https://localhost:8080/"
        },
        "id": "PU9A_7DrGxzd",
        "outputId": "c4c06dba-7c70-4e68-e7d5-9d4f25aafec0"
      },
      "execution_count": 50,
      "outputs": [
        {
          "output_type": "stream",
          "name": "stdout",
          "text": [
            "58\n",
            "11\n",
            "169\n"
          ]
        }
      ]
    },
    {
      "cell_type": "markdown",
      "source": [
        "#**List Comprehension**"
      ],
      "metadata": {
        "id": "WhWZyG7dIhfB"
      }
    },
    {
      "cell_type": "code",
      "source": [
        "l = [1,2,3,4,5,6]\n",
        "l1 = [item * 2 for item in l]\n",
        "l1"
      ],
      "metadata": {
        "colab": {
          "base_uri": "https://localhost:8080/"
        },
        "id": "RAN_KnhFG7ew",
        "outputId": "0bae4203-68f8-409b-a207-24d635b16bd0"
      },
      "execution_count": 53,
      "outputs": [
        {
          "output_type": "execute_result",
          "data": {
            "text/plain": [
              "[2, 4, 6, 8, 10, 12]"
            ]
          },
          "metadata": {},
          "execution_count": 53
        }
      ]
    },
    {
      "cell_type": "code",
      "source": [
        "l2 = [i**2 for i in l if i%2 == 0]\n",
        "l2"
      ],
      "metadata": {
        "colab": {
          "base_uri": "https://localhost:8080/"
        },
        "id": "8anF52xYHl7s",
        "outputId": "b75d738d-dbf0-45a0-bf5a-c54a664cd7dc"
      },
      "execution_count": 55,
      "outputs": [
        {
          "output_type": "execute_result",
          "data": {
            "text/plain": [
              "[4, 16, 36]"
            ]
          },
          "metadata": {},
          "execution_count": 55
        }
      ]
    },
    {
      "cell_type": "code",
      "source": [
        "fruits"
      ],
      "metadata": {
        "colab": {
          "base_uri": "https://localhost:8080/"
        },
        "id": "slYJdd7xIwij",
        "outputId": "d72263b6-721e-4f75-e344-ae3220c442af"
      },
      "execution_count": 56,
      "outputs": [
        {
          "output_type": "execute_result",
          "data": {
            "text/plain": [
              "['apple', 'orange', 'guava', 'grapes']"
            ]
          },
          "metadata": {},
          "execution_count": 56
        }
      ]
    },
    {
      "cell_type": "code",
      "source": [
        "l4 = [fruit for fruit in fruits if fruit[0] == 'o']\n",
        "l4"
      ],
      "metadata": {
        "colab": {
          "base_uri": "https://localhost:8080/"
        },
        "id": "Fv6AUpQ-JpoG",
        "outputId": "55b9dfc8-49ec-4b00-886e-e47b7e9221f2"
      },
      "execution_count": 57,
      "outputs": [
        {
          "output_type": "execute_result",
          "data": {
            "text/plain": [
              "['orange']"
            ]
          },
          "metadata": {},
          "execution_count": 57
        }
      ]
    },
    {
      "cell_type": "markdown",
      "source": [
        "#**Dictionary Comprehension**"
      ],
      "metadata": {
        "id": "b8HoGU4FKZxR"
      }
    },
    {
      "cell_type": "code",
      "source": [
        "d = {'name': 'nitish', 'gender': 'male', 'age': 30}\n",
        "d.items()"
      ],
      "metadata": {
        "colab": {
          "base_uri": "https://localhost:8080/"
        },
        "id": "48EYpohiJv3S",
        "outputId": "551999f9-8c3d-4bdc-eac2-ca9b5c8ac7ea"
      },
      "execution_count": 58,
      "outputs": [
        {
          "output_type": "execute_result",
          "data": {
            "text/plain": [
              "dict_items([('name', 'nitish'), ('gender', 'male'), ('age', 30)])"
            ]
          },
          "metadata": {},
          "execution_count": 58
        }
      ]
    },
    {
      "cell_type": "code",
      "source": [
        "d1 = {key: value for key, value in d.items() if len(key) > 3}\n",
        "d1"
      ],
      "metadata": {
        "colab": {
          "base_uri": "https://localhost:8080/"
        },
        "id": "2PgPAYR7KB5m",
        "outputId": "3a1528cd-ed74-4d85-be53-fc2efe1dead3"
      },
      "execution_count": 60,
      "outputs": [
        {
          "output_type": "execute_result",
          "data": {
            "text/plain": [
              "{'name': 'nitish', 'gender': 'male'}"
            ]
          },
          "metadata": {},
          "execution_count": 60
        }
      ]
    },
    {
      "cell_type": "code",
      "source": [
        "print(l)\n",
        "d2 = {item: item**2 for item in l}\n",
        "d2"
      ],
      "metadata": {
        "colab": {
          "base_uri": "https://localhost:8080/"
        },
        "id": "oDid4ddrKX3b",
        "outputId": "72790174-e92b-4020-9f32-271fed730acf"
      },
      "execution_count": 63,
      "outputs": [
        {
          "output_type": "stream",
          "name": "stdout",
          "text": [
            "[1, 2, 3, 4, 5, 6]\n"
          ]
        },
        {
          "output_type": "execute_result",
          "data": {
            "text/plain": [
              "{1: 1, 2: 4, 3: 9, 4: 16, 5: 25, 6: 36}"
            ]
          },
          "metadata": {},
          "execution_count": 63
        }
      ]
    },
    {
      "cell_type": "code",
      "source": [
        "d3 = {item: item**2 for item in l if item%2 == 0}\n",
        "d3"
      ],
      "metadata": {
        "colab": {
          "base_uri": "https://localhost:8080/"
        },
        "id": "T0_Y8LdyKkZP",
        "outputId": "1c3162ef-daaa-416c-a63d-50987f05b807"
      },
      "execution_count": 65,
      "outputs": [
        {
          "output_type": "execute_result",
          "data": {
            "text/plain": [
              "{2: 4, 4: 16, 6: 36}"
            ]
          },
          "metadata": {},
          "execution_count": 65
        }
      ]
    }
  ]
}