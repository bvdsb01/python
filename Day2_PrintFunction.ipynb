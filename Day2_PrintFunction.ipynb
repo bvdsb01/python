{
  "nbformat": 4,
  "nbformat_minor": 0,
  "metadata": {
    "colab": {
      "provenance": [],
      "authorship_tag": "ABX9TyMo0PxvGAkZsRroDxwDGKJP",
      "include_colab_link": true
    },
    "kernelspec": {
      "name": "python3",
      "display_name": "Python 3"
    },
    "language_info": {
      "name": "python"
    }
  },
  "cells": [
    {
      "cell_type": "markdown",
      "metadata": {
        "id": "view-in-github",
        "colab_type": "text"
      },
      "source": [
        "<a href=\"https://colab.research.google.com/github/bvdsb01/python/blob/main/Day2_PrintFunction.ipynb\" target=\"_parent\"><img src=\"https://colab.research.google.com/assets/colab-badge.svg\" alt=\"Open In Colab\"/></a>"
      ]
    },
    {
      "cell_type": "code",
      "execution_count": 1,
      "metadata": {
        "colab": {
          "base_uri": "https://localhost:8080/"
        },
        "id": "tV7gEfzISqCm",
        "outputId": "917655b5-c9eb-4735-ae0e-00bcd74d73ae"
      },
      "outputs": [
        {
          "output_type": "stream",
          "name": "stdout",
          "text": [
            "India Assam Nepal Bhutan\n"
          ]
        }
      ],
      "source": [
        "print(\"India\",\"Assam\",\"Nepal\",\"Bhutan\")"
      ]
    },
    {
      "cell_type": "code",
      "source": [
        "print(\"India\",\"Assam\",\"Nepal\",\"Bhutan\", sep = \"/\")"
      ],
      "metadata": {
        "colab": {
          "base_uri": "https://localhost:8080/"
        },
        "id": "qr0DXOC_Srtl",
        "outputId": "c4221e11-74bf-45b4-e764-a25f0b70682b"
      },
      "execution_count": 2,
      "outputs": [
        {
          "output_type": "stream",
          "name": "stdout",
          "text": [
            "India/Assam/Nepal/Bhutan\n"
          ]
        }
      ]
    },
    {
      "cell_type": "code",
      "source": [
        "print(\"India\",\"Assam\",\"Nepal\",\"Bhutan\", sep = \",\")"
      ],
      "metadata": {
        "colab": {
          "base_uri": "https://localhost:8080/"
        },
        "id": "VSLntBVrStI8",
        "outputId": "7be5df4e-44cd-43b8-b4ae-b4efe954c45a"
      },
      "execution_count": 3,
      "outputs": [
        {
          "output_type": "stream",
          "name": "stdout",
          "text": [
            "India,Assam,Nepal,Bhutan\n"
          ]
        }
      ]
    },
    {
      "cell_type": "code",
      "source": [
        "print(\"India\",\"Assam\",\"Nepal\",\"Bhutan\", sep = \"-\", end = \" \")\n",
        "print(\"India\",\"Assam\",\"Nepal\",\"Bhutan\", sep = \"0\")"
      ],
      "metadata": {
        "colab": {
          "base_uri": "https://localhost:8080/"
        },
        "id": "-ljoxeCsSua5",
        "outputId": "de10a075-c76a-4473-e753-a8edf72fe3c0"
      },
      "execution_count": 4,
      "outputs": [
        {
          "output_type": "stream",
          "name": "stdout",
          "text": [
            "India-Assam-Nepal-Bhutan India0Assam0Nepal0Bhutan\n"
          ]
        }
      ]
    }
  ]
}